{
 "cells": [
  {
   "cell_type": "markdown",
   "id": "6188a59d",
   "metadata": {},
   "source": [
    "# Epymix integration"
   ]
  },
  {
   "cell_type": "markdown",
   "id": "6a196cef",
   "metadata": {},
   "source": [
    "This tutorial demonstrate how an existing openalea model (epymix) can be exported as an IPM-compliant web service"
   ]
  },
  {
   "cell_type": "markdown",
   "id": "c97f96af",
   "metadata": {},
   "source": [
    "## Get Epymix factory from OpenAlea package manager"
   ]
  },
  {
   "cell_type": "code",
   "execution_count": 1,
   "id": "c7935fc2",
   "metadata": {},
   "outputs": [],
   "source": [
    "from openalea.core.pkgmanager import PackageManager\n",
    "pm = PackageManager()\n",
    "pm.init()"
   ]
  },
  {
   "cell_type": "code",
   "execution_count": 2,
   "id": "e2e69d08",
   "metadata": {},
   "outputs": [],
   "source": [
    "factory = pm['ipmdecisions.epymix']['epymix_seir']\n",
    "node = factory.instantiate()"
   ]
  },
  {
   "cell_type": "code",
   "execution_count": 7,
   "id": "ceecedcb",
   "metadata": {},
   "outputs": [
    {
     "data": {
      "text/plain": [
       "(['sowing_date',\n",
       "  'daily_tmin',\n",
       "  'daily_tmax',\n",
       "  'daily_rain',\n",
       "  'delta_t',\n",
       "  'rainfall_threshold',\n",
       "  'scenario_ino',\n",
       "  'Lx',\n",
       "  'Ly',\n",
       "  'Lr',\n",
       "  'frac_inf',\n",
       "  'inoc_init_abs',\n",
       "  'ng_ext0_abs',\n",
       "  'scenario_rot',\n",
       "  'wheat_fraction',\n",
       "  'day_length',\n",
       "  'alpha_ure',\n",
       "  'radius_ure',\n",
       "  'alpha_asco',\n",
       "  'radius_asco',\n",
       "  'alpha_pycnid',\n",
       "  'radius_pycnid',\n",
       "  't',\n",
       "  'season',\n",
       "  'mu_companion',\n",
       "  'beta_companion',\n",
       "  'end_companion',\n",
       "  'LAI_K',\n",
       "  'delta_companion',\n",
       "  'disease',\n",
       "  'mu_wheat',\n",
       "  'nu',\n",
       "  'beta_wheat',\n",
       "  'end_wheat',\n",
       "  'ber_wheat',\n",
       "  'ber_companion',\n",
       "  'h_wheat',\n",
       "  'h_companion',\n",
       "  'lambd',\n",
       "  'delta_ei',\n",
       "  's0',\n",
       "  'pi_inf0',\n",
       "  'rho',\n",
       "  'psi',\n",
       "  'gamma',\n",
       "  'theta',\n",
       "  'sigma',\n",
       "  'sigma_asco',\n",
       "  'inf_begin'],\n",
       " [{'name': 'Nsp', 'interface': 'ISequence'},\n",
       "  {'name': 'Pth', 'interface': 'ISequence'},\n",
       "  {'name': 'Poi', 'interface': 'ISequence'},\n",
       "  {'name': 'Sth', 'interface': 'ISequence'},\n",
       "  {'name': 'Sus', 'interface': 'ISequence'},\n",
       "  {'name': 'Lat', 'interface': 'ISequence'},\n",
       "  {'name': 'Ifc', 'interface': 'ISequence'},\n",
       "  {'name': 'Ifv', 'interface': 'ISequence'},\n",
       "  {'name': 'Rem', 'interface': 'ISequence'},\n",
       "  {'name': 'LAI', 'interface': 'ISequence'},\n",
       "  {'name': 'LAI_wheat', 'interface': 'ISequence'},\n",
       "  {'name': 'Poo', 'interface': 'ISequence'},\n",
       "  {'name': 'Eps', 'interface': 'ISequence'},\n",
       "  {'name': 'AUDPC', 'interface': 'ISequence'},\n",
       "  {'name': 'Scont', 'interface': 'ISequence'}])"
      ]
     },
     "execution_count": 7,
     "metadata": {},
     "output_type": "execute_result"
    }
   ],
   "source": [
    "[v['name'] for v in node.input_desc], node.output_desc"
   ]
  },
  {
   "cell_type": "code",
   "execution_count": 8,
   "id": "4946092b",
   "metadata": {},
   "outputs": [
    {
     "data": {
      "text/plain": [
       "('epymix_SEIR',\n",
       " 'Sebastien Levionnois, Christophe Pradal, ... (wralea authors)')"
      ]
     },
     "execution_count": 8,
     "metadata": {},
     "output_type": "execute_result"
    }
   ],
   "source": [
    "factory.get_id(), factory.get_authors()"
   ]
  },
  {
   "cell_type": "code",
   "execution_count": 9,
   "id": "106cfba2",
   "metadata": {},
   "outputs": [
    {
     "data": {
      "text/plain": [
       "'c:/users/fourniec/develop/ipm/epymix/src/epymix/wralea/adaptor.py'"
      ]
     },
     "execution_count": 9,
     "metadata": {},
     "output_type": "execute_result"
    }
   ],
   "source": [
    "factory.get_node_file().replace('\\\\','/')"
   ]
  },
  {
   "cell_type": "markdown",
   "id": "abc971a8",
   "metadata": {},
   "source": [
    "## Create IPM model"
   ]
  },
  {
   "cell_type": "code",
   "execution_count": 10,
   "id": "7391fc43",
   "metadata": {},
   "outputs": [
    {
     "name": "stdout",
     "output_type": "stream",
     "text": [
      "Help on function dss_factory in module openalea.dss.dss_factory:\n",
      "\n",
      "dss_factory(model_id, node, factory=None, interval=86400, weather_parameters=None, parameters=None, decision_support=None, meta=None)\n",
      "    Transform an openalea node in a IPM model json descriptor and generate a fastAPI script to launch webservice\n",
      "    \n",
      "    Args:\n",
      "        node: the node to be exported\n",
      "        interval: the time step of the model (s)\n",
      "        weather_parameters: a mapping between node input name and weather data codes, if any.\n",
      "        None if none of the input is a weather data\n",
      "        parameters: a list of node input name to be exposed as config parameters in IPM-Decison platform\n",
      "        meta : model meta informations\n",
      "    Returns:\n",
      "        model: a json-like dict describing the model\n",
      "        dss_service: a string containing the script to be run for launching the web service\n",
      "\n"
     ]
    }
   ],
   "source": [
    "from openalea.dss.dss_factory import dss_factory\n",
    "help(dss_factory)"
   ]
  },
  {
   "cell_type": "code",
   "execution_count": 11,
   "id": "3532bde9",
   "metadata": {},
   "outputs": [],
   "source": [
    "parameters = ['sowing_date', 'delta_t','rainfall_threshold','scenario_ino','Lx','Ly','Lr','frac_inf','inoc_init_abs','ng_ext0_abs','scenario_rot','wheat_fraction',]\n",
    "ipm_model, service = dss_factory('epymix', node, factory=factory,weather_parameters={'daily_tmin':1003,'daily_tmax':1004,'daily_rain':2001},parameters=parameters)"
   ]
  },
  {
   "cell_type": "code",
   "execution_count": 12,
   "id": "8204ac51",
   "metadata": {},
   "outputs": [
    {
     "data": {
      "text/plain": [
       "{'id': 'epymix',\n",
       " 'name': 'Sample model',\n",
       " 'version': '0.0.0',\n",
       " 'purpose': 'Sample meta informations generated by openalea dss facctory',\n",
       " 'description': 'Please provide here a concise description of the model',\n",
       " 'type_of_decision': 'Short-term tactical',\n",
       " 'type_of_output': 'Risk indication',\n",
       " 'description_url': None,\n",
       " 'citation': None,\n",
       " 'keywords': None,\n",
       " 'platform_validated': False,\n",
       " 'pests': [],\n",
       " 'crops': [],\n",
       " 'authors': [{'name': 'Anonymous',\n",
       "   'email': 'anonymous@mail',\n",
       "   'organization': 'Unknown'}],\n",
       " 'valid_spatial': {'countries': [], 'geoJSON': '{}'},\n",
       " 'execution': {'type': 'ONTHEFLY',\n",
       "  'endpoint': 'http://127.0.0.1:8000/epymix/',\n",
       "  'form_method': 'post',\n",
       "  'content_type': 'application/json',\n",
       "  'input_schema_categories': {'hidden': ['modelId'],\n",
       "   'system': [],\n",
       "   'user_init': [],\n",
       "   'triggered': [],\n",
       "   'internal': []},\n",
       "  'input_schema': {'type': 'object',\n",
       "   'properties': {'configParameters': {'title': 'Configuration parameters',\n",
       "     'type': 'object',\n",
       "     'properties': {'timeZone': {'type': 'string',\n",
       "       'title': 'Time zone (e.g. Europe/Oslo)',\n",
       "       'default': 'Europe/Oslo',\n",
       "       'options': {'infoText': 'The time zone information is used when hourly temperature values need to be converted to daily.'}},\n",
       "      'timeStart': {'type': 'string',\n",
       "       'format': 'date',\n",
       "       'default': '{CURRENT_YEAR}-03-01',\n",
       "       'title': 'Start date of calculation (YYYY-MM-DD)'},\n",
       "      'timeEnd': {'type': 'string',\n",
       "       'format': 'date',\n",
       "       'default': '{CURRENT_YEAR}-09-01',\n",
       "       'title': 'End date of calculation (YYYY-MM-DD)'},\n",
       "      'sowing_date': {'default': '2019-09-01', 'type': 'string'},\n",
       "      'delta_t': {'default': 10, 'type': 'integer'},\n",
       "      'rainfall_threshold': {'default': 3, 'type': 'integer'},\n",
       "      'scenario_ino': {'default': 'initial_inoculum', 'type': 'string'},\n",
       "      'Lx': {'default': 1, 'type': 'integer'},\n",
       "      'Ly': {'default': 1, 'type': 'integer'},\n",
       "      'Lr': {'default': 1, 'type': 'integer'},\n",
       "      'frac_inf': {'default': 1, 'type': 'integer'},\n",
       "      'inoc_init_abs': {'default': 20000000, 'type': 'integer'},\n",
       "      'ng_ext0_abs': {'default': 20000, 'type': 'integer'},\n",
       "      'scenario_rot': {'default': 'uniform', 'type': 'string'},\n",
       "      'wheat_fraction': {'default': 0.5, 'type': 'number'}},\n",
       "     'required': ['timeZone',\n",
       "      'timeStart',\n",
       "      'timeEnd',\n",
       "      'sowing_date',\n",
       "      'delta_t',\n",
       "      'rainfall_threshold',\n",
       "      'scenario_ino',\n",
       "      'Lx',\n",
       "      'Ly',\n",
       "      'Lr',\n",
       "      'frac_inf',\n",
       "      'inoc_init_abs',\n",
       "      'ng_ext0_abs',\n",
       "      'scenario_rot',\n",
       "      'wheat_fraction']},\n",
       "    'modelId': {'title': 'Model_Id',\n",
       "     'type': 'string',\n",
       "     'pattern': '^epymix$',\n",
       "     'default': 'epymix',\n",
       "     'description': 'Must be epymix'},\n",
       "    'weatherData': {'$ref': 'https://platform.ipmdecisions.net/api/wx/rest/schema/weatherdata'}},\n",
       "   'required': ['modelId', 'configParameters', 'weatherData']}},\n",
       " 'input': {'weather_parameters': [{'parameter_code': 1003, 'interval': 86400},\n",
       "   {'parameter_code': 1004, 'interval': 86400},\n",
       "   {'parameter_code': 2001, 'interval': 86400}],\n",
       "  'field_observation': None,\n",
       "  'weather_data_period_start': [{'determined_by': 'INPUT_SCHEMA_PROPERTY',\n",
       "    'value': 'configParameters.timeStart'}],\n",
       "  'weather_data_period_end': [{'determined_by': 'INPUT_SCHEMA_PROPERTY',\n",
       "    'value': 'configParameters.timeEnd'}]},\n",
       " 'output': {'warning_status_interpretation': 'None',\n",
       "  'result_parameters': [{'id': 'Nsp'},\n",
       "   {'id': 'Pth'},\n",
       "   {'id': 'Poi'},\n",
       "   {'id': 'Sth'},\n",
       "   {'id': 'Sus'},\n",
       "   {'id': 'Lat'},\n",
       "   {'id': 'Ifc'},\n",
       "   {'id': 'Ifv'},\n",
       "   {'id': 'Rem'},\n",
       "   {'id': 'LAI'},\n",
       "   {'id': 'LAI_wheat'},\n",
       "   {'id': 'Poo'},\n",
       "   {'id': 'Eps'},\n",
       "   {'id': 'AUDPC'},\n",
       "   {'id': 'Scont'}]}}"
      ]
     },
     "execution_count": 12,
     "metadata": {},
     "output_type": "execute_result"
    }
   ],
   "source": [
    "ipm_model"
   ]
  },
  {
   "cell_type": "code",
   "execution_count": 13,
   "id": "4ed08687",
   "metadata": {},
   "outputs": [
    {
     "name": "stdout",
     "output_type": "stream",
     "text": [
      "from __future__ import annotations\n",
      "\n",
      "from typing import List\n",
      "\n",
      "from pydantic import BaseModel\n",
      "\n",
      "\n",
      "class ConfigParameters(BaseModel):\n",
      "    timeZone: str\n",
      "    timeStart: str\n",
      "    timeEnd: str\n",
      "    sowing_date: str\n",
      "    delta_t: int\n",
      "    rainfall_threshold: int\n",
      "    scenario_ino: str\n",
      "    Lx: int\n",
      "    Ly: int\n",
      "    Lr: int\n",
      "    frac_inf: int\n",
      "    inoc_init_abs: int\n",
      "    ng_ext0_abs: int\n",
      "    scenario_rot: str\n",
      "    wheat_fraction: float\n",
      "\n",
      "\n",
      "class LocationWeatherDatum(BaseModel):\n",
      "    longitude: float\n",
      "    latitude: float\n",
      "    altitude: float\n",
      "    data: List[List[float]]\n",
      "    length: int\n",
      "    width: int\n",
      "\n",
      "\n",
      "class WeatherData(BaseModel):\n",
      "    timeStart: str\n",
      "    timeEnd: str\n",
      "    interval: int\n",
      "    weatherParameters: List[int]\n",
      "    locationWeatherData: List[LocationWeatherDatum]\n",
      "\n",
      "\n",
      "class PydanticModel(BaseModel):\n",
      "    modelId: str\n",
      "    configParameters: ConfigParameters\n",
      "    weatherData: WeatherData\n",
      "\n",
      "\n",
      "from fastapi import FastAPI\n",
      "from openalea.dss.dss_factory import encode_input\n",
      "\n",
      "app = FastAPI()\n",
      "\n",
      "from openalea.core.node import FuncNode\n",
      "from openalea.core import *\n",
      "\n",
      "if \"c:/users/fourniec/develop/ipm/epymix/src/epymix/wralea/adaptor.py\" is not None:\n",
      "    with open(\"c:/users/fourniec/develop/ipm/epymix/src/epymix/wralea/adaptor.py\") as f:\n",
      "        exec(f.read())\n",
      "\n",
      "def ipm_SEIR(sowing_date='2019-09-01',\n",
      "             daily_tmin=[10]*60,\n",
      "             daily_tmax=[20]*60,\n",
      "             daily_rain=[1]*30+[5]*30,\n",
      "             delta_t=10,\n",
      "             rainfall_threshold=3,\n",
      "             scenario_ino='initial_inoculum',\n",
      "             Lx=1,\n",
      "             Ly=1,\n",
      "             Lr=1,\n",
      "             frac_inf=1,\n",
      "             inoc_init_abs=20000000,\n",
      "             ng_ext0_abs=20000,\n",
      "             scenario_rot='uniform',\n",
      "             wheat_fraction=0.5,\n",
      "             day_length=4320,\n",
      "             alpha_ure=3,\n",
      "             radius_ure=5,\n",
      "             alpha_asco=3,\n",
      "             radius_asco=5,\n",
      "             alpha_pycnid=2e-05,\n",
      "             radius_pycnid=5,\n",
      "             t=250,\n",
      "             season=250,\n",
      "             mu_companion=0.03,\n",
      "             beta_companion=0.09,\n",
      "             end_companion=140,\n",
      "             LAI_K=6,\n",
      "             delta_companion=0,\n",
      "             disease=\"septo\",\n",
      "             mu_wheat=0.03,\n",
      "             nu=0.03,\n",
      "             beta_wheat=0.09,\n",
      "             end_wheat=140,\n",
      "             ber_wheat=1,\n",
      "             ber_companion=1,\n",
      "             h_wheat=1,\n",
      "             h_companion=1,\n",
      "             lambd=20,\n",
      "             delta_ei=5,\n",
      "             s0=0.0001,\n",
      "             pi_inf0=0.0002,\n",
      "             rho=0.002,\n",
      "             psi=0.3,\n",
      "             gamma=0,\n",
      "             theta=0.15,\n",
      "             sigma=45000000,\n",
      "             sigma_asco=9000000,\n",
      "             inf_begin=0\n",
      "             ) :\n",
      "    daily_tmax = np.array(daily_tmax)\n",
      "    daily_tmin = np.array(daily_tmin)\n",
      "    daily_rain = np.array(daily_rain)\n",
      "    daily_rain = np.where(daily_rain > rainfall_threshold, daily_rain, 0)\n",
      "    dd = np.cumsum((daily_tmin + daily_tmax) / 2)\n",
      "    dd_rain_days = np.ceil(dd[np.argwhere(daily_rain > 0)] / delta_t)\n",
      "    inoc_init, ng_ext0 = inoculum(scenario_ino=scenario_ino,\n",
      "                                  Lx=Lx,\n",
      "                                  Ly=Ly,\n",
      "                                  frac_inf=frac_inf,\n",
      "                                  inoc_init_abs=inoc_init_abs,\n",
      "                                  ng_ext0_abs=ng_ext0_abs)\n",
      "    arrangement = configuration(Lr=Lr,\n",
      "                                Lx=Lx,\n",
      "                                Ly=Ly,\n",
      "                                scenario_rot=scenario_rot,\n",
      "                                wheat_fraction=wheat_fraction,\n",
      "                                )[0]\n",
      "    kernel_ure, C_Disp_ure = dispersion_kernel_rust(\n",
      "        day_length=day_length,\n",
      "        alpha_ure=alpha_ure,\n",
      "        radius_ure=radius_ure)\n",
      "\n",
      "    kernel_asco, C_Disp_asco, kernel_pycnid, C_Disp_pycnid = dispersion_kernel_septo(\n",
      "        day_length=day_length,\n",
      "        alpha_asco=alpha_asco,\n",
      "        radius_asco=radius_asco,\n",
      "        alpha_pycnid=alpha_pycnid,\n",
      "        radius_pycnid=radius_pycnid)\n",
      "\n",
      "    Pth_inde, Poi_inde = growth_pea(\n",
      "        t=t,\n",
      "        season=season,\n",
      "        arrangement=arrangement,\n",
      "        mu_companion=mu_companion,\n",
      "        beta_companion=beta_companion,\n",
      "        end_companion=end_companion,\n",
      "        LAI_K=LAI_K)\n",
      "\n",
      "    return SEIR(\n",
      "        dd_rain_days, arrangement, inoc_init, ng_ext0, Pth_inde, Poi_inde,\n",
      "        kernel_ure=kernel_ure,\n",
      "        C_Disp_ure=C_Disp_ure,\n",
      "        kernel_asco=kernel_asco,\n",
      "        C_Disp_asco=C_Disp_asco,\n",
      "        kernel_pycnid=kernel_pycnid,\n",
      "        C_Disp_pycnid=C_Disp_pycnid,\n",
      "        t=t,\n",
      "        delta_t0=delta_t,\n",
      "        delta_t=delta_t,\n",
      "        season=season,\n",
      "        delta_companion=delta_companion,\n",
      "        disease=disease,\n",
      "        mu_wheat=mu_wheat,\n",
      "        nu=nu,\n",
      "        beta_wheat=beta_wheat,\n",
      "        end_wheat=end_wheat,\n",
      "        LAI_K=LAI_K,\n",
      "        ber_wheat=ber_wheat,\n",
      "        ber_companion=ber_companion,\n",
      "        h_wheat=h_wheat,\n",
      "        h_companion=h_companion,\n",
      "        lambd=lambd,\n",
      "        delta_ei=delta_ei,\n",
      "        s0=s0,\n",
      "        pi_inf0=pi_inf0,\n",
      "        rho=rho,\n",
      "        psi=psi,\n",
      "        gamma=gamma,\n",
      "        theta=theta,\n",
      "        sigma=sigma,\n",
      "        sigma_asco=sigma_asco,\n",
      "        inf_begin=inf_begin)\n",
      "\n",
      "\n",
      "inputs = [{'name': 'sowing_date', 'interface': IStr, 'value': '2019-09-01'}, {'name': 'daily_tmin', 'interface': ISequence, 'value': [10, 10, 10, 10, 10, 10, 10, 10, 10, 10, 10, 10, 10, 10, 10, 10, 10, 10, 10, 10, 10, 10, 10, 10, 10, 10, 10, 10, 10, 10, 10, 10, 10, 10, 10, 10, 10, 10, 10, 10, 10, 10, 10, 10, 10, 10, 10, 10, 10, 10, 10, 10, 10, 10, 10, 10, 10, 10, 10, 10]}, {'name': 'daily_tmax', 'interface': ISequence, 'value': [20, 20, 20, 20, 20, 20, 20, 20, 20, 20, 20, 20, 20, 20, 20, 20, 20, 20, 20, 20, 20, 20, 20, 20, 20, 20, 20, 20, 20, 20, 20, 20, 20, 20, 20, 20, 20, 20, 20, 20, 20, 20, 20, 20, 20, 20, 20, 20, 20, 20, 20, 20, 20, 20, 20, 20, 20, 20, 20, 20]}, {'name': 'daily_rain', 'interface': ISequence, 'value': [1, 1, 1, 1, 1, 1, 1, 1, 1, 1, 1, 1, 1, 1, 1, 1, 1, 1, 1, 1, 1, 1, 1, 1, 1, 1, 1, 1, 1, 1, 5, 5, 5, 5, 5, 5, 5, 5, 5, 5, 5, 5, 5, 5, 5, 5, 5, 5, 5, 5, 5, 5, 5, 5, 5, 5, 5, 5, 5, 5]}, {'name': 'delta_t', 'interface': IInt, 'value': 10}, {'name': 'rainfall_threshold', 'interface': IInt, 'value': 3}, {'name': 'scenario_ino', 'interface': IStr, 'value': 'initial_inoculum'}, {'name': 'Lx', 'interface': IInt, 'value': 1}, {'name': 'Ly', 'interface': IInt, 'value': 1}, {'name': 'Lr', 'interface': IInt, 'value': 1}, {'name': 'frac_inf', 'interface': IInt, 'value': 1}, {'name': 'inoc_init_abs', 'interface': IInt, 'value': 20000000}, {'name': 'ng_ext0_abs', 'interface': IInt, 'value': 20000}, {'name': 'scenario_rot', 'interface': IStr, 'value': 'uniform'}, {'name': 'wheat_fraction', 'interface': IFloat, 'value': 0.5}, {'name': 'day_length', 'interface': IInt, 'value': 4320}, {'name': 'alpha_ure', 'interface': IInt, 'value': 3}, {'name': 'radius_ure', 'interface': IInt, 'value': 5}, {'name': 'alpha_asco', 'interface': IInt, 'value': 3}, {'name': 'radius_asco', 'interface': IInt, 'value': 5}, {'name': 'alpha_pycnid', 'interface': IFloat, 'value': 2e-05}, {'name': 'radius_pycnid', 'interface': IInt, 'value': 5}, {'name': 't', 'interface': IInt, 'value': 250}, {'name': 'season', 'interface': IInt, 'value': 250}, {'name': 'mu_companion', 'interface': IFloat, 'value': 0.03}, {'name': 'beta_companion', 'interface': IFloat, 'value': 0.09}, {'name': 'end_companion', 'interface': IInt, 'value': 140}, {'name': 'LAI_K', 'interface': IInt, 'value': 6}, {'name': 'delta_companion', 'interface': IInt, 'value': 0}, {'name': 'disease', 'interface': IStr, 'value': 'septo'}, {'name': 'mu_wheat', 'interface': IFloat, 'value': 0.03}, {'name': 'nu', 'interface': IFloat, 'value': 0.03}, {'name': 'beta_wheat', 'interface': IFloat, 'value': 0.09}, {'name': 'end_wheat', 'interface': IInt, 'value': 140}, {'name': 'ber_wheat', 'interface': IInt, 'value': 1}, {'name': 'ber_companion', 'interface': IInt, 'value': 1}, {'name': 'h_wheat', 'interface': IInt, 'value': 1}, {'name': 'h_companion', 'interface': IInt, 'value': 1}, {'name': 'lambd', 'interface': IInt, 'value': 20}, {'name': 'delta_ei', 'interface': IInt, 'value': 5}, {'name': 's0', 'interface': IFloat, 'value': 0.0001}, {'name': 'pi_inf0', 'interface': IFloat, 'value': 0.0002}, {'name': 'rho', 'interface': IFloat, 'value': 0.002}, {'name': 'psi', 'interface': IFloat, 'value': 0.3}, {'name': 'gamma', 'interface': IInt, 'value': 0}, {'name': 'theta', 'interface': IFloat, 'value': 0.15}, {'name': 'sigma', 'interface': IInt, 'value': 45000000}, {'name': 'sigma_asco', 'interface': IInt, 'value': 9000000}, {'name': 'inf_begin', 'interface': IInt, 'value': 0}]\n",
      "outputs = [{'name': 'Nsp', 'interface': 'ISequence'}, {'name': 'Pth', 'interface': 'ISequence'}, {'name': 'Poi', 'interface': 'ISequence'}, {'name': 'Sth', 'interface': 'ISequence'}, {'name': 'Sus', 'interface': 'ISequence'}, {'name': 'Lat', 'interface': 'ISequence'}, {'name': 'Ifc', 'interface': 'ISequence'}, {'name': 'Ifv', 'interface': 'ISequence'}, {'name': 'Rem', 'interface': 'ISequence'}, {'name': 'LAI', 'interface': 'ISequence'}, {'name': 'LAI_wheat', 'interface': 'ISequence'}, {'name': 'Poo', 'interface': 'ISequence'}, {'name': 'Eps', 'interface': 'ISequence'}, {'name': 'AUDPC', 'interface': 'ISequence'}, {'name': 'Scont', 'interface': 'ISequence'}]\n",
      "node = FuncNode(inputs, outputs, ipm_SEIR)\n",
      "node.name='epymix'\n",
      "\n",
      "\n",
      "input_mapping = {'weather_parameters': {\"daily_tmin\": 1003, \"daily_tmax\": 1004, \"daily_rain\": 2001}, 'config_params': [\"sowing_date\", \"delta_t\", \"rainfall_threshold\", \"scenario_ino\", \"Lx\", \"Ly\", \"Lr\", \"frac_inf\", \"inoc_init_abs\", \"ng_ext0_abs\", \"scenario_rot\", \"wheat_fraction\"]}\n",
      "\n",
      "@app.post(\"/epymix/\")\n",
      "async def model_evaluation(data: PydanticModel):\n",
      "    input_data = data.dict()\n",
      "    inputs = encode_input(node, input_data, input_mapping)\n",
      "    return [node(input) for input in inputs]\n",
      "\n"
     ]
    }
   ],
   "source": [
    "print(service)"
   ]
  },
  {
   "cell_type": "markdown",
   "id": "cf766acc",
   "metadata": {},
   "source": [
    "## Launch the Webservice"
   ]
  },
  {
   "cell_type": "code",
   "execution_count": 14,
   "id": "0de15e8d",
   "metadata": {},
   "outputs": [],
   "source": [
    "from openalea.dss.dss_factory import start_service, stop_service\n",
    "\n",
    "http, handler = start_service(service)"
   ]
  },
  {
   "cell_type": "code",
   "execution_count": 15,
   "id": "e742ac01",
   "metadata": {},
   "outputs": [],
   "source": [
    "from IPython.display import IFrame"
   ]
  },
  {
   "cell_type": "code",
   "execution_count": 16,
   "id": "ef17859e",
   "metadata": {},
   "outputs": [
    {
     "data": {
      "text/html": [
       "\n",
       "        <iframe\n",
       "            width=\"800\"\n",
       "            height=\"400\"\n",
       "            src=\"http://127.0.0.1:8000/docs\"\n",
       "            frameborder=\"0\"\n",
       "            allowfullscreen\n",
       "            \n",
       "        ></iframe>\n",
       "        "
      ],
      "text/plain": [
       "<IPython.lib.display.IFrame at 0x1609e876610>"
      ]
     },
     "execution_count": 16,
     "metadata": {},
     "output_type": "execute_result"
    }
   ],
   "source": [
    "IFrame(http + '/docs', 800,400)"
   ]
  },
  {
   "cell_type": "markdown",
   "id": "4c0c434b",
   "metadata": {},
   "source": [
    "## Try it out using the fake input generated below !"
   ]
  },
  {
   "cell_type": "code",
   "execution_count": 17,
   "id": "d0cb9eee",
   "metadata": {},
   "outputs": [],
   "source": [
    "import agroservices.ipm.fakers as ipm_fakers\n",
    "import json"
   ]
  },
  {
   "cell_type": "code",
   "execution_count": 18,
   "id": "eefe4f88",
   "metadata": {},
   "outputs": [
    {
     "data": {
      "text/plain": [
       "'{\"configParameters\": {\"timeZone\": \"Europe/Oslo\", \"timeStart\": \"2023-03-01\", \"timeEnd\": \"2023-09-01\", \"sowing_date\": \"2019-09-01\", \"delta_t\": 10, \"rainfall_threshold\": 3, \"scenario_ino\": \"initial_inoculum\", \"Lx\": 1, \"Ly\": 1, \"Lr\": 1, \"frac_inf\": 1, \"inoc_init_abs\": 20000000, \"ng_ext0_abs\": 20000, \"scenario_rot\": \"uniform\", \"wheat_fraction\": 0.5}, \"modelId\": \"epymix\", \"weatherData\": {\"weatherParameters\": [1003, 1004, 2001], \"timeStart\": \"2023-03-01T00:00:00+01:00\", \"timeEnd\": \"2023-09-01T00:00:00+02:00\", \"interval\": 86400, \"locationWeatherData\": [{\"longitude\": 94.21801146289893, \"latitude\": 70.74611849782036, \"altitude\": 0, \"data\": [[8.3, 5.8, 2.7], [7.3, 7.0, 3.7], [0.9, 5.1, 0.3], [8.4, 5.8, 2.0], [2.6, 0.4, 0.1], [3.4, 9.5, 1.4], [7.2, 6.5, 7.3], [2.4, 1.3, 9.5], [5.0, 0.7, 3.6], [6.3, 3.6, 2.4], [8.3, 0.6, 6.5], [0.6, 9.1, 2.2], [9.0, 5.0, 3.7], [0.2, 5.2, 4.0], [2.4, 1.6, 3.5], [2.2, 3.2, 6.5], [4.6, 1.2, 1.5], [8.7, 9.4, 1.6], [6.3, 4.6, 1.6], [9.7, 2.4, 3.4], [0.0, 3.2, 1.3], [4.5, 0.4, 7.4], [3.3, 1.7, 5.9], [8.4, 4.6, 5.6], [5.0, 4.0, 2.2], [2.0, 7.7, 0.5], [7.4, 0.1, 5.3], [8.8, 8.3, 4.0], [2.4, 4.9, 4.3], [9.8, 6.7, 3.9], [8.7, 7.3, 4.2], [5.3, 4.0, 4.3], [6.6, 5.6, 3.3], [8.8, 9.9, 6.0], [6.8, 9.1, 9.4], [4.7, 8.0, 6.5], [1.2, 3.4, 1.3], [2.5, 6.2, 3.8], [4.2, 4.7, 7.3], [0.7, 5.7, 0.8], [2.8, 3.2, 6.9], [6.6, 3.7, 8.2], [2.7, 1.2, 2.2], [4.5, 5.0, 0.8], [5.9, 1.2, 1.0], [5.9, 9.4, 3.4], [6.6, 0.0, 4.6], [7.3, 3.6, 5.6], [8.1, 8.6, 8.2], [1.5, 1.3, 3.7], [7.6, 9.7, 5.2], [4.8, 8.7, 0.0], [5.6, 9.7, 3.0], [3.7, 6.6, 2.4], [3.4, 9.3, 3.9], [0.9, 0.2, 0.3], [7.1, 6.2, 4.4], [4.4, 6.0, 8.4], [0.7, 2.3, 9.6], [5.7, 2.8, 3.5], [6.9, 0.3, 2.7], [5.7, 7.1, 9.4], [6.4, 9.9, 6.8], [5.4, 8.9, 4.5], [0.6, 7.0, 3.7], [4.9, 8.0, 0.2], [5.8, 1.8, 8.2], [1.2, 8.4, 9.6], [6.8, 9.5, 0.5], [9.8, 3.0, 7.1], [8.9, 1.0, 6.5], [9.4, 8.4, 9.5], [7.6, 3.9, 8.8], [2.3, 0.8, 2.4], [8.8, 6.8, 3.7], [0.7, 0.5, 7.2], [5.5, 7.1, 0.9], [4.5, 3.6, 3.7], [2.5, 5.7, 6.0], [5.4, 6.8, 3.9], [6.9, 6.7, 3.6], [1.5, 1.6, 3.4], [7.4, 0.3, 5.9], [5.6, 2.1, 2.6], [9.9, 5.0, 6.8], [5.4, 4.4, 9.0], [0.9, 9.4, 6.9], [6.0, 7.7, 5.9], [7.3, 3.2, 4.9], [9.3, 4.7, 2.6], [9.6, 6.0, 5.5], [1.1, 1.6, 2.8], [3.0, 5.7, 8.0], [6.1, 1.8, 8.1], [2.2, 6.3, 9.4], [8.3, 4.2, 1.1], [1.7, 8.1, 7.8], [7.1, 8.0, 5.6], [7.4, 2.4, 5.5], [2.6, 6.6, 7.9], [3.1, 0.1, 1.9], [2.9, 2.5, 7.4], [0.0, 7.6, 4.7], [2.4, 6.0, 1.0], [1.5, 9.9, 7.3], [0.9, 7.2, 1.6], [0.2, 6.8, 9.7], [8.0, 8.9, 2.0], [0.4, 7.8, 3.3], [5.7, 7.9, 6.9], [7.3, 9.5, 3.7], [1.5, 6.8, 8.0], [1.8, 8.7, 9.9], [6.2, 0.7, 1.7], [4.6, 7.4, 4.7], [0.7, 7.0, 8.2], [2.5, 7.4, 3.1], [8.1, 1.6, 3.8], [0.9, 4.0, 0.6], [2.2, 1.2, 8.8], [4.4, 2.6, 8.0], [7.0, 2.1, 9.5], [3.4, 1.7, 5.9], [2.6, 4.0, 3.9], [1.7, 4.5, 2.1], [1.0, 1.1, 3.0], [1.4, 1.7, 3.6], [5.5, 6.4, 3.1], [3.1, 6.7, 2.0], [4.6, 2.2, 6.0], [2.7, 1.5, 9.1], [7.4, 3.8, 9.7], [8.9, 5.9, 7.5], [8.2, 2.2, 8.4], [0.2, 6.9, 3.4], [8.9, 8.5, 2.9], [5.3, 4.9, 8.0], [7.7, 7.3, 7.5], [8.2, 2.2, 8.8], [5.3, 7.0, 0.0], [4.6, 8.7, 5.6], [4.7, 5.1, 9.5], [4.4, 7.0, 0.1], [3.4, 5.4, 0.7], [6.2, 2.6, 8.1], [6.6, 8.4, 6.0], [1.2, 0.9, 5.0], [7.5, 5.9, 2.4], [5.8, 6.5, 9.1], [9.0, 5.1, 6.7], [1.0, 2.8, 0.5], [7.8, 1.6, 9.7], [6.7, 9.7, 2.0], [3.0, 2.1, 8.1], [9.4, 1.6, 3.7], [7.3, 4.5, 6.8], [0.6, 7.3, 6.4], [3.7, 2.2, 2.1], [3.1, 4.6, 2.7], [7.4, 9.8, 2.7], [4.5, 4.0, 0.7], [2.4, 6.1, 3.3], [9.8, 1.1, 6.1], [1.8, 3.6, 2.4], [7.7, 9.0, 1.9], [5.2, 7.0, 3.4], [9.2, 4.8, 7.5], [2.5, 1.6, 1.9], [0.3, 1.0, 0.2], [5.5, 9.9, 5.9], [5.8, 7.9, 6.9], [0.7, 5.8, 9.3], [3.1, 7.3, 9.2], [8.4, 4.2, 5.0], [2.8, 1.4, 7.9], [7.1, 1.3, 2.4], [9.6, 8.4, 6.8], [4.5, 1.7, 0.1], [6.8, 2.5, 4.1], [3.1, 8.3, 7.4], [3.4, 7.3, 5.5], [0.2, 3.0, 8.6], [1.7, 2.3, 2.6], [7.3, 8.1, 9.1]], \"length\": 184, \"width\": 3}]}}'"
      ]
     },
     "execution_count": 18,
     "metadata": {},
     "output_type": "execute_result"
    }
   ],
   "source": [
    "input_data = ipm_fakers.input_data(ipm_model)\n",
    "json.dumps(input_data)"
   ]
  },
  {
   "cell_type": "markdown",
   "id": "26c6bee1",
   "metadata": {},
   "source": [
    "## Test the exported model"
   ]
  },
  {
   "cell_type": "code",
   "execution_count": 19,
   "id": "af96fa19",
   "metadata": {},
   "outputs": [],
   "source": [
    "from agroservices.ipm.ipm import IPM"
   ]
  },
  {
   "cell_type": "code",
   "execution_count": 20,
   "id": "987a0dd2",
   "metadata": {},
   "outputs": [
    {
     "data": {
      "text/plain": [
       "{'configParameters': {'timeZone': 'Europe/Oslo',\n",
       "  'timeStart': '2023-03-01',\n",
       "  'timeEnd': '2023-09-01',\n",
       "  'sowing_date': '2019-09-01',\n",
       "  'delta_t': 10,\n",
       "  'rainfall_threshold': 3,\n",
       "  'scenario_ino': 'initial_inoculum',\n",
       "  'Lx': 1,\n",
       "  'Ly': 1,\n",
       "  'Lr': 1,\n",
       "  'frac_inf': 1,\n",
       "  'inoc_init_abs': 20000000,\n",
       "  'ng_ext0_abs': 20000,\n",
       "  'scenario_rot': 'uniform',\n",
       "  'wheat_fraction': 0.5},\n",
       " 'modelId': 'epymix',\n",
       " 'weatherData': {'weatherParameters': [1003, 1004, 2001],\n",
       "  'timeStart': '2023-03-01T00:00:00+01:00',\n",
       "  'timeEnd': '2023-09-01T00:00:00+02:00',\n",
       "  'interval': 86400,\n",
       "  'locationWeatherData': [{'longitude': 158.38435796693184,\n",
       "    'latitude': 73.07620678927249,\n",
       "    'altitude': 0,\n",
       "    'data': [[0.7, 9.0, 7.1],\n",
       "     [3.9, 4.8, 7.4],\n",
       "     [4.4, 1.9, 8.2],\n",
       "     [6.0, 1.5, 7.0],\n",
       "     [2.9, 9.5, 8.5],\n",
       "     [3.8, 5.1, 9.1],\n",
       "     [7.1, 1.6, 3.1],\n",
       "     [6.4, 2.3, 0.9],\n",
       "     [6.0, 7.3, 0.9],\n",
       "     [1.3, 6.1, 1.7],\n",
       "     [8.7, 8.8, 4.0],\n",
       "     [4.9, 0.5, 9.7],\n",
       "     [6.1, 3.0, 6.8],\n",
       "     [7.3, 4.6, 4.4],\n",
       "     [4.2, 5.3, 2.5],\n",
       "     [3.5, 1.5, 4.0],\n",
       "     [9.2, 5.8, 1.1],\n",
       "     [3.1, 6.0, 9.6],\n",
       "     [0.1, 2.0, 6.3],\n",
       "     [3.6, 8.1, 4.4],\n",
       "     [1.6, 5.3, 9.3],\n",
       "     [2.3, 9.3, 9.5],\n",
       "     [7.2, 1.5, 2.9],\n",
       "     [0.3, 3.9, 4.9],\n",
       "     [5.2, 4.7, 8.5],\n",
       "     [8.7, 3.2, 5.5],\n",
       "     [9.7, 5.8, 1.1],\n",
       "     [5.8, 5.3, 2.8],\n",
       "     [7.3, 1.6, 7.6],\n",
       "     [5.0, 8.8, 4.5],\n",
       "     [1.7, 1.5, 0.4],\n",
       "     [0.9, 6.3, 1.0],\n",
       "     [2.7, 6.0, 5.7],\n",
       "     [5.6, 2.9, 2.2],\n",
       "     [8.2, 8.0, 6.9],\n",
       "     [5.0, 6.8, 2.9],\n",
       "     [3.5, 9.7, 1.8],\n",
       "     [4.5, 3.2, 4.4],\n",
       "     [2.4, 8.7, 0.8],\n",
       "     [5.7, 1.6, 9.0],\n",
       "     [7.6, 9.2, 9.6],\n",
       "     [7.6, 8.6, 4.2],\n",
       "     [6.7, 6.0, 0.3],\n",
       "     [1.4, 3.5, 3.7],\n",
       "     [8.7, 9.5, 3.5],\n",
       "     [1.4, 7.4, 4.1],\n",
       "     [7.1, 3.7, 2.5],\n",
       "     [0.2, 9.9, 0.3],\n",
       "     [0.9, 2.0, 1.6],\n",
       "     [1.9, 3.4, 9.4],\n",
       "     [6.0, 9.3, 9.2],\n",
       "     [2.7, 8.9, 2.5],\n",
       "     [8.4, 9.8, 8.1],\n",
       "     [7.1, 4.2, 0.0],\n",
       "     [2.5, 5.7, 8.9],\n",
       "     [2.4, 0.7, 6.6],\n",
       "     [9.6, 1.5, 4.8],\n",
       "     [5.9, 9.3, 1.7],\n",
       "     [7.7, 0.9, 6.4],\n",
       "     [9.5, 4.0, 7.3],\n",
       "     [5.4, 4.0, 5.6],\n",
       "     [8.3, 8.7, 5.5],\n",
       "     [8.8, 9.0, 6.2],\n",
       "     [2.1, 3.2, 9.1],\n",
       "     [3.1, 1.7, 8.4],\n",
       "     [2.6, 1.2, 0.7],\n",
       "     [9.5, 3.6, 0.4],\n",
       "     [1.4, 4.9, 1.6],\n",
       "     [8.9, 7.6, 2.2],\n",
       "     [4.7, 1.0, 6.8],\n",
       "     [8.0, 8.2, 0.2],\n",
       "     [2.1, 0.6, 5.9],\n",
       "     [3.7, 8.3, 8.6],\n",
       "     [9.6, 3.7, 8.6],\n",
       "     [4.1, 5.2, 9.2],\n",
       "     [2.1, 2.2, 0.6],\n",
       "     [8.8, 4.9, 6.3],\n",
       "     [9.4, 6.2, 3.9],\n",
       "     [4.4, 5.1, 4.7],\n",
       "     [2.3, 4.7, 4.2],\n",
       "     [7.4, 3.8, 6.0],\n",
       "     [6.5, 2.9, 0.9],\n",
       "     [7.0, 8.3, 3.7],\n",
       "     [8.8, 6.6, 4.3],\n",
       "     [8.0, 4.4, 1.1],\n",
       "     [1.2, 0.7, 3.3],\n",
       "     [4.4, 6.1, 1.1],\n",
       "     [2.2, 6.4, 4.5],\n",
       "     [8.6, 4.7, 0.2],\n",
       "     [0.2, 9.0, 5.9],\n",
       "     [3.6, 4.2, 9.5],\n",
       "     [8.8, 5.4, 3.9],\n",
       "     [6.2, 8.4, 5.0],\n",
       "     [8.3, 0.5, 2.9],\n",
       "     [0.8, 9.2, 8.4],\n",
       "     [8.4, 9.8, 9.6],\n",
       "     [1.3, 7.1, 9.7],\n",
       "     [6.3, 9.3, 8.0],\n",
       "     [8.7, 4.9, 0.8],\n",
       "     [7.0, 4.0, 4.5],\n",
       "     [4.8, 6.5, 1.5],\n",
       "     [1.5, 0.7, 7.6],\n",
       "     [9.8, 8.1, 6.0],\n",
       "     [8.6, 8.1, 9.6],\n",
       "     [9.7, 7.6, 5.6],\n",
       "     [0.9, 9.3, 7.6],\n",
       "     [8.3, 6.1, 1.0],\n",
       "     [8.9, 0.3, 5.3],\n",
       "     [4.5, 2.4, 9.3],\n",
       "     [3.1, 0.0, 5.3],\n",
       "     [7.7, 0.2, 2.6],\n",
       "     [0.9, 1.2, 4.5],\n",
       "     [5.7, 2.6, 6.6],\n",
       "     [9.6, 5.3, 9.3],\n",
       "     [3.6, 2.2, 1.7],\n",
       "     [5.2, 0.5, 1.9],\n",
       "     [7.6, 5.5, 9.1],\n",
       "     [4.5, 8.7, 0.6],\n",
       "     [8.1, 2.2, 6.5],\n",
       "     [6.3, 2.3, 1.9],\n",
       "     [2.9, 8.0, 8.7],\n",
       "     [6.4, 6.5, 3.0],\n",
       "     [5.5, 9.6, 2.2],\n",
       "     [0.4, 9.5, 2.6],\n",
       "     [0.0, 4.2, 5.0],\n",
       "     [2.2, 6.2, 3.6],\n",
       "     [7.3, 1.0, 1.6],\n",
       "     [5.0, 4.0, 3.1],\n",
       "     [3.6, 6.6, 3.1],\n",
       "     [8.8, 9.1, 0.7],\n",
       "     [8.0, 5.1, 7.3],\n",
       "     [5.1, 3.8, 6.7],\n",
       "     [2.0, 6.6, 8.1],\n",
       "     [9.0, 9.3, 9.2],\n",
       "     [0.0, 0.5, 8.3],\n",
       "     [3.9, 7.8, 9.3],\n",
       "     [3.5, 9.6, 1.3],\n",
       "     [8.7, 7.2, 6.9],\n",
       "     [4.0, 2.9, 9.0],\n",
       "     [7.0, 0.1, 1.0],\n",
       "     [5.8, 6.7, 8.1],\n",
       "     [2.9, 3.4, 2.3],\n",
       "     [5.8, 7.8, 3.2],\n",
       "     [1.3, 5.9, 7.9],\n",
       "     [1.3, 7.4, 6.0],\n",
       "     [4.3, 5.5, 5.2],\n",
       "     [5.3, 8.0, 2.2],\n",
       "     [6.4, 6.6, 0.5],\n",
       "     [9.5, 9.9, 5.2],\n",
       "     [7.6, 3.9, 7.5],\n",
       "     [0.9, 2.8, 2.3],\n",
       "     [0.9, 5.5, 7.7],\n",
       "     [0.3, 5.6, 2.6],\n",
       "     [2.4, 7.7, 2.3],\n",
       "     [1.2, 6.1, 7.3],\n",
       "     [2.3, 7.6, 7.7],\n",
       "     [7.0, 9.8, 4.4],\n",
       "     [5.4, 3.3, 2.0],\n",
       "     [8.4, 9.9, 6.4],\n",
       "     [1.9, 6.2, 3.6],\n",
       "     [3.6, 7.2, 0.4],\n",
       "     [3.3, 0.1, 4.8],\n",
       "     [2.0, 0.1, 7.0],\n",
       "     [8.7, 3.2, 0.9],\n",
       "     [1.9, 2.1, 0.7],\n",
       "     [8.9, 9.0, 8.7],\n",
       "     [3.7, 4.5, 3.8],\n",
       "     [0.2, 5.9, 7.9],\n",
       "     [3.6, 2.7, 3.7],\n",
       "     [7.0, 1.3, 7.7],\n",
       "     [3.4, 1.5, 5.9],\n",
       "     [5.8, 2.9, 4.1],\n",
       "     [5.6, 7.5, 6.0],\n",
       "     [2.3, 2.6, 4.9],\n",
       "     [4.6, 6.7, 9.4],\n",
       "     [6.2, 9.5, 3.0],\n",
       "     [0.8, 3.4, 1.4],\n",
       "     [0.6, 3.0, 6.3],\n",
       "     [4.7, 2.9, 0.1],\n",
       "     [6.1, 8.3, 5.5],\n",
       "     [1.5, 8.6, 2.7],\n",
       "     [7.9, 4.5, 2.3],\n",
       "     [5.9, 8.6, 3.0],\n",
       "     [7.3, 0.0, 8.3]],\n",
       "    'length': 184,\n",
       "    'width': 3}]}}"
      ]
     },
     "execution_count": 20,
     "metadata": {},
     "output_type": "execute_result"
    }
   ],
   "source": [
    "ipm = IPM()\n",
    "input_data = ipm_fakers.input_data(ipm_model)\n",
    "input_data"
   ]
  },
  {
   "cell_type": "code",
   "execution_count": 21,
   "id": "132c64c5",
   "metadata": {},
   "outputs": [
    {
     "name": "stderr",
     "output_type": "stream",
     "text": [
      "\u001b[33mWARNING [agroservices:IPM:116]: \u001b[0m \u001b[34mstatus is not ok with Internal Server Error\u001b[0m\n",
      "WARNING:agroservices:IPM:status is not ok with Internal Server Error\n"
     ]
    },
    {
     "data": {
      "text/plain": [
       "500"
      ]
     },
     "execution_count": 21,
     "metadata": {},
     "output_type": "execute_result"
    }
   ],
   "source": [
    "ipm.run_model(ipm_model, input_data)"
   ]
  },
  {
   "cell_type": "markdown",
   "id": "420fb5d8",
   "metadata": {},
   "source": [
    "# Stop service"
   ]
  },
  {
   "cell_type": "code",
   "execution_count": 20,
   "id": "2f8e3599",
   "metadata": {},
   "outputs": [],
   "source": [
    "stop_service(handler)"
   ]
  },
  {
   "cell_type": "code",
   "execution_count": 18,
   "id": "19a95dbf",
   "metadata": {},
   "outputs": [
    {
     "data": {
      "text/html": [
       "\n",
       "        <iframe\n",
       "            width=\"800\"\n",
       "            height=\"400\"\n",
       "            src=\"http://127.0.0.1:8000/docs\"\n",
       "            frameborder=\"0\"\n",
       "            allowfullscreen\n",
       "            \n",
       "        ></iframe>\n",
       "        "
      ],
      "text/plain": [
       "<IPython.lib.display.IFrame at 0x25c176f4af0>"
      ]
     },
     "execution_count": 18,
     "metadata": {},
     "output_type": "execute_result"
    }
   ],
   "source": [
    "IFrame(http + '/docs', 800,400)"
   ]
  },
  {
   "cell_type": "code",
   "execution_count": null,
   "id": "04e61f06",
   "metadata": {},
   "outputs": [],
   "source": []
  }
 ],
 "metadata": {
  "kernelspec": {
   "display_name": "Python 3 (ipykernel)",
   "language": "python",
   "name": "python3"
  },
  "language_info": {
   "codemirror_mode": {
    "name": "ipython",
    "version": 3
   },
   "file_extension": ".py",
   "mimetype": "text/x-python",
   "name": "python",
   "nbconvert_exporter": "python",
   "pygments_lexer": "ipython3",
   "version": "3.8.16"
  }
 },
 "nbformat": 4,
 "nbformat_minor": 5
}
