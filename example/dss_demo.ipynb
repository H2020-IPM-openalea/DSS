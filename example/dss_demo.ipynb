{
 "cells": [
  {
   "cell_type": "markdown",
   "metadata": {},
   "source": [
    "# IPM DSS"
   ]
  },
  {
   "cell_type": "markdown",
   "metadata": {},
   "source": [
    "## import modules"
   ]
  },
  {
   "cell_type": "code",
   "execution_count": 2,
   "metadata": {},
   "outputs": [],
   "source": [
    "import pandas\n",
    "\n",
    "from openalea.dss import Hub, Model\n",
    "\n"
   ]
  },
  {
   "cell_type": "markdown",
   "metadata": {},
   "source": [
    "## Access to DSS catalog"
   ]
  },
  {
   "cell_type": "code",
   "execution_count": null,
   "metadata": {},
   "outputs": [],
   "source": [
    "hub = Hub()\n",
    "#hub.list_dss(ViewDataFrame=True)\n",
    "print(hub) \n",
    "\n",
    "hub.display(ViewDataFrame=False) #to improve"
   ]
  },
  {
   "cell_type": "code",
   "execution_count": null,
   "metadata": {},
   "outputs": [],
   "source": [
    "hub.list_dss(View)\n"
   ]
  },
  {
   "cell_type": "markdown",
   "metadata": {},
   "source": [
    "## Access to one DSS"
   ]
  },
  {
   "cell_type": "code",
   "execution_count": null,
   "metadata": {},
   "outputs": [],
   "source": [
    "#PSI=hub.get_dss(ModelId='no.nibio.vips', DSSId='PSILARTEMP') \n",
    "# hub[dss][model]\n",
    "PSI=hub.get_model(dss=\"no.nibio.vips\", model='PSILARTEMP')\n",
    "print(PSI)# PSILARTEMP"
   ]
  },
  {
   "cell_type": "code",
   "execution_count": null,
   "metadata": {},
   "outputs": [],
   "source": [
    "# \n",
    "weather_data = ...\n",
    "PSI(weather_data)\n",
    "PSI.input_DSS_weather_model_json(TimeStart=\"2021-01-01\", \n",
    "                                 TimeEnd=\"2021-12-31\",\n",
    "                                 weatherDataService='Finnish Meteorological Institute measured data',\n",
    "                                 parameters=[1002],\n",
    "                                 stationId=[101104])"
   ]
  },
  {
   "cell_type": "code",
   "execution_count": null,
   "metadata": {},
   "outputs": [],
   "source": [
    "ds=PSI.get_data_model(modelInput='model_input_weatherdata.json')\n",
    "ds"
   ]
  },
  {
   "cell_type": "code",
   "execution_count": null,
   "metadata": {},
   "outputs": [],
   "source": [
    "ds.to_dataframe().plot.line()"
   ]
  },
  {
   "cell_type": "code",
   "execution_count": null,
   "metadata": {},
   "outputs": [],
   "source": [
    "PSILAROBS= hub.get_dss(DSSId='PSILAROBSE')\n"
   ]
  },
  {
   "cell_type": "code",
   "execution_count": null,
   "metadata": {},
   "outputs": [],
   "source": [
    "PSILAROBS.input_DSS_fieldobservation_model_json(fieldobservation=r\"C:\\Users\\mlabadie\\Documents\\GitHub\\dss\\src\\openalea\\dss\\fieldobservation.json\")"
   ]
  },
  {
   "cell_type": "code",
   "execution_count": null,
   "metadata": {},
   "outputs": [],
   "source": [
    "PSILAROBS.get_data_model(modelInput=\"model_input_fieldobservation.json\")"
   ]
  }
 ],
 "metadata": {
  "interpreter": {
   "hash": "02ca071b7e78c344288e1079c8d0ea68009fe5a98fcc0669e2a2bbe220df75ce"
  },
  "kernelspec": {
   "display_name": "Python 3 (ipykernel)",
   "language": "python",
   "name": "python3"
  },
  "language_info": {
   "codemirror_mode": {
    "name": "ipython",
    "version": 3
   },
   "file_extension": ".py",
   "mimetype": "text/x-python",
   "name": "python",
   "nbconvert_exporter": "python",
   "pygments_lexer": "ipython3",
   "version": "3.8.12"
  }
 },
 "nbformat": 4,
 "nbformat_minor": 2
}
