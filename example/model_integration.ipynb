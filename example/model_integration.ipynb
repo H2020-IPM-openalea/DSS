{
 "cells": [
  {
   "cell_type": "markdown",
   "id": "6188a59d",
   "metadata": {},
   "source": [
    "# Model integration"
   ]
  },
  {
   "cell_type": "markdown",
   "id": "6a196cef",
   "metadata": {},
   "source": [
    "This tutorial demonstrate how an openalea model can be exported as an IPM-compliant web service"
   ]
  },
  {
   "cell_type": "markdown",
   "id": "c97f96af",
   "metadata": {},
   "source": [
    "## Python Model creation"
   ]
  },
  {
   "cell_type": "markdown",
   "id": "82a5e244",
   "metadata": {},
   "source": [
    "Let export the folowing simple model, that return some risk level, as a function of air temperature and a user-defined temperature threshold:"
   ]
  },
  {
   "cell_type": "code",
   "execution_count": 35,
   "id": "ac3e1838",
   "metadata": {},
   "outputs": [],
   "source": [
    "def t_risk(tair, threshold=15):\n",
    "    if tair <= threshold:\n",
    "        return 0\n",
    "    else:\n",
    "        return 1"
   ]
  },
  {
   "cell_type": "code",
   "execution_count": 36,
   "id": "f1e63b7d",
   "metadata": {},
   "outputs": [
    {
     "data": {
      "text/plain": [
       "(0, 1, 0)"
      ]
     },
     "execution_count": 36,
     "metadata": {},
     "output_type": "execute_result"
    }
   ],
   "source": [
    "t_risk(0), t_risk(20), t_risk(20, threshold=20)"
   ]
  },
  {
   "cell_type": "markdown",
   "id": "63b30799",
   "metadata": {},
   "source": [
    "## Import in OpenAlea"
   ]
  },
  {
   "cell_type": "markdown",
   "id": "9e673693",
   "metadata": {},
   "source": [
    "Let import it in OpenAlea, by embending it in a OpenAlea Node:"
   ]
  },
  {
   "cell_type": "code",
   "execution_count": 37,
   "id": "89deceae",
   "metadata": {},
   "outputs": [],
   "source": [
    "from openalea.core.node import FuncNode\n",
    "from openalea.core import IFloat, IInt"
   ]
  },
  {
   "cell_type": "code",
   "execution_count": 38,
   "id": "67383409",
   "metadata": {},
   "outputs": [],
   "source": [
    "inputs = (dict(name='tair', interface=IFloat, value=None),\n",
    "          dict(name='threshold', interface=IFloat, value=15))\n",
    "outputs = (dict(name='Risk', interface=IInt), )\n",
    "my_node = FuncNode(inputs, outputs, t_risk)\n",
    "my_node.name='TRISK'"
   ]
  },
  {
   "cell_type": "code",
   "execution_count": 39,
   "id": "14891537",
   "metadata": {},
   "outputs": [
    {
     "data": {
      "text/plain": [
       "(0, 1, 0)"
      ]
     },
     "execution_count": 39,
     "metadata": {},
     "output_type": "execute_result"
    }
   ],
   "source": [
    "my_node((0,)), my_node((20,)),my_node((20,20))"
   ]
  },
  {
   "cell_type": "code",
   "execution_count": 40,
   "id": "4946092b",
   "metadata": {},
   "outputs": [
    {
     "data": {
      "text/plain": [
       "('TRISK',\n",
       " [{'name': 'tair', 'interface': IFloat, 'value': None},\n",
       "  {'name': 'threshold', 'interface': IFloat, 'value': 15}],\n",
       " [{'name': 'Risk', 'interface': IInt}])"
      ]
     },
     "execution_count": 40,
     "metadata": {},
     "output_type": "execute_result"
    }
   ],
   "source": [
    "my_node.name, my_node.input_desc, my_node.output_desc"
   ]
  },
  {
   "cell_type": "markdown",
   "id": "abc971a8",
   "metadata": {},
   "source": [
    "## Create IPM model"
   ]
  },
  {
   "cell_type": "code",
   "execution_count": 41,
   "id": "7391fc43",
   "metadata": {},
   "outputs": [
    {
     "name": "stdout",
     "output_type": "stream",
     "text": [
      "Help on function dss_factory in module openalea.dss.dss_factory:\n",
      "\n",
      "dss_factory(node, interval=86400, weather_parameters=None, parameters=None, decision_support=None, template=None)\n",
      "    Transform an openalea node in a IPM model json descriptor and generate a fastAPI script to launch webservice\n",
      "    \n",
      "    Args:\n",
      "        node: the node to be exported\n",
      "        interval: the time step of the model (s)\n",
      "        weather_parameters: a mapping between node input name and weather data codes, if any.\n",
      "        None if none of the input is a weather data\n",
      "        parameters: a list of node input name to be exposed as config parameters in IPM-Decison platform\n",
      "        template: (optional) an existing IPM model to be used as a template for filling missing information\n",
      "    Returns:\n",
      "        model: a json-like dict describing the model\n",
      "        dss_service: a string containing the script to be run for launching the web service\n",
      "\n"
     ]
    }
   ],
   "source": [
    "from openalea.dss import Manager\n",
    "from openalea.dss.dss_factory import dss_factory\n",
    "help(dss_factory)"
   ]
  },
  {
   "cell_type": "markdown",
   "id": "368de531",
   "metadata": {},
   "source": [
    "We will use as a templase a nibio vips model, and define a simple decision_support function that help a user interpret the risk level of our model"
   ]
  },
  {
   "cell_type": "code",
   "execution_count": 42,
   "id": "2de8dee5",
   "metadata": {},
   "outputs": [],
   "source": [
    "decision_support = list(range(2))\n",
    "decision_support[0] = {'explanation': 'Risk is low',\n",
    "                      'recommended_action': 'No particular action is required'}\n",
    "decision_support[1] = {'explanation': 'Risk is high',\n",
    "                      'recommended_action': 'Be carreful !'}"
   ]
  },
  {
   "cell_type": "code",
   "execution_count": 43,
   "id": "b620d1b7",
   "metadata": {},
   "outputs": [],
   "source": [
    "m = Manager()\n",
    "template = m.get_model(\"no.nibio.vips\",\"PSILARTEMP\")"
   ]
  },
  {
   "cell_type": "code",
   "execution_count": 44,
   "id": "3532bde9",
   "metadata": {},
   "outputs": [],
   "source": [
    "ipm_model, service = dss_factory(my_node, weather_parameters={'tair': 1002},parameters=['threshold'],decision_support=decision_support,template=template)"
   ]
  },
  {
   "cell_type": "code",
   "execution_count": 45,
   "id": "8204ac51",
   "metadata": {},
   "outputs": [
    {
     "data": {
      "text/plain": [
       "{'name': 'Carrot fly flight model',\n",
       " 'id': 'TRISK',\n",
       " 'version': '1.0',\n",
       " 'purpose': 'Estimates risk of flight and egg laying in crop',\n",
       " 'description': 'THE PEST: The first generation of adult carrot fly emerge from pupae in the soil in the spring, and lay eggs close to the base of vulnerable crops. Larvae initial feed at the surface, then tunnel into the tap root. Adults emerge mid-July and can lead to a second generation. \\nTHE DECISION: Treatments may need to be applied soon after adults arrive in the crop, before larvae tunnel into the crop roots.  \\nTHE MODEL: The model determines the start of the flight period for the 1st generation of carrot rust fly based on accumuleted degree-days (260 day-degrees) over a base temperature of 5°C.  \\nTHE PARAMETERS: The model uses daily air temperature \\nSOURCE: Luke, Finland. \\nASSUMPTIONS: Be aware that in areas with field covers (plastic, single or double non-woven covers, etc.) with early crops the preceding season (either on the current field or neighboring fields), the flight period can start earlier than predicted due to higher soil temperature under the covers.\\nREFERENCE: Marjjula et al 2000\\n',\n",
       " 'type_of_decision': 'Short-term tactical',\n",
       " 'type_of_output': 'Risk indication',\n",
       " 'description_URL': 'https://www.vips-landbruk.no/forecasts/models/PSILARTEMP/',\n",
       " 'citation': None,\n",
       " 'keywords': 'none',\n",
       " 'platform_validated': True,\n",
       " 'pests': ['PSILRO'],\n",
       " 'crops': ['DAUCS'],\n",
       " 'authors': [{'name': '', 'email': 'vips@nibio.no', 'organization': 'NIBIO'}],\n",
       " 'execution': {'type': 'ONTHEFLY',\n",
       "  'endpoint': 'http://127.0.0.1:8000/TRISK/',\n",
       "  'form_method': 'post',\n",
       "  'content_type': 'application/json',\n",
       "  'input_schema': {'type': 'object',\n",
       "   'properties': {'modelId': {'type': 'string',\n",
       "     'pattern': '^TRISK$',\n",
       "     'title': 'Model Id',\n",
       "     'default': 'TRISK',\n",
       "     'description': 'Must be TRISK'},\n",
       "    'configParameters': {'title': 'Configuration parameters',\n",
       "     'type': 'object',\n",
       "     'properties': {'timeStart': {'type': 'string',\n",
       "       'format': 'date',\n",
       "       'default': '{CURRENT_YEAR}-03-01',\n",
       "       'title': 'Start date of calculation (YYYY-MM-DD)'},\n",
       "      'timeEnd': {'type': 'string',\n",
       "       'format': 'date',\n",
       "       'default': '{CURRENT_YEAR}-09-01',\n",
       "       'title': 'End date of calculation (YYYY-MM-DD)'},\n",
       "      'threshold': {'default': 15, 'type': 'number'}},\n",
       "     'required': ['timeStart', 'timeEnd', 'threshold']},\n",
       "    'weatherData': {'$ref': 'https://platform.ipmdecisions.net/api/wx/rest/schema/weatherdata'}},\n",
       "   'required': ['modelId', 'configParameters']},\n",
       "  'input_schema_categories': {'hidden': ['modelId'],\n",
       "   'system': [],\n",
       "   'user_init': [],\n",
       "   'triggered': [],\n",
       "   'internal': []}},\n",
       " 'input': {'weather_parameters': [{'parameter_code': 1002, 'interval': 86400}],\n",
       "  'field_observation': None,\n",
       "  'weather_data_period_start': [{'determined_by': 'INPUT_SCHEMA_PROPERTY',\n",
       "    'value': 'configParameters.timeStart'}],\n",
       "  'weather_data_period_end': [{'determined_by': 'INPUT_SCHEMA_PROPERTY',\n",
       "    'value': 'configParameters.timeEnd'}]},\n",
       " 'valid_spatial': {'countries': ['NOR'], 'geoJSON': '{}'},\n",
       " 'output': {'warning_status_interpretation': [{'explanation': 'Risk is low',\n",
       "    'recommended_action': 'No particular action is required'},\n",
       "   {'explanation': 'Risk is high', 'recommended_action': 'Be carreful !'}],\n",
       "  'result_parameters': [{'id': 'Risk'}]}}"
      ]
     },
     "execution_count": 45,
     "metadata": {},
     "output_type": "execute_result"
    }
   ],
   "source": [
    "ipm_model"
   ]
  },
  {
   "cell_type": "markdown",
   "id": "cf766acc",
   "metadata": {},
   "source": [
    "## Launch the Webservice"
   ]
  },
  {
   "cell_type": "code",
   "execution_count": 46,
   "id": "0de15e8d",
   "metadata": {},
   "outputs": [],
   "source": [
    "with open('main.py', 'w') as outfile:\n",
    "    outfile.write(service)\n",
    "    \n",
    "import os\n",
    "import signal\n",
    "import subprocess\n",
    "\n",
    "pro = subprocess.Popen('uvicorn main:app', stdout=subprocess.PIPE, \n",
    "                       shell=True)"
   ]
  },
  {
   "cell_type": "code",
   "execution_count": 47,
   "id": "e742ac01",
   "metadata": {},
   "outputs": [],
   "source": [
    "from IPython.display import IFrame"
   ]
  },
  {
   "cell_type": "code",
   "execution_count": 48,
   "id": "ef17859e",
   "metadata": {},
   "outputs": [
    {
     "data": {
      "text/html": [
       "\n",
       "        <iframe\n",
       "            width=\"800\"\n",
       "            height=\"400\"\n",
       "            src=\"http://127.0.0.1:8000/docs\"\n",
       "            frameborder=\"0\"\n",
       "            allowfullscreen\n",
       "            \n",
       "        ></iframe>\n",
       "        "
      ],
      "text/plain": [
       "<IPython.lib.display.IFrame at 0x2b55e53bbb0>"
      ]
     },
     "execution_count": 48,
     "metadata": {},
     "output_type": "execute_result"
    }
   ],
   "source": [
    "IFrame('http://127.0.0.1:8000/docs', 800,400)"
   ]
  },
  {
   "cell_type": "markdown",
   "id": "11f7fd50",
   "metadata": {},
   "source": [
    "Check the service is running by going to doc page: http://127.0.0.1:8000/docs"
   ]
  },
  {
   "cell_type": "markdown",
   "id": "26c6bee1",
   "metadata": {},
   "source": [
    "## Test the exported model"
   ]
  },
  {
   "cell_type": "code",
   "execution_count": 49,
   "id": "af96fa19",
   "metadata": {},
   "outputs": [],
   "source": [
    "from agroservices.ipm.ipm import IPM\n",
    "import agroservices.ipm.fakers as ipm_fakers\n",
    "from openalea.dss.dss_factory import fake_input_data\n",
    "import json"
   ]
  },
  {
   "cell_type": "code",
   "execution_count": 50,
   "id": "61e2071c",
   "metadata": {},
   "outputs": [
    {
     "data": {
      "text/plain": [
       "{'type': 'object',\n",
       " 'properties': {'modelId': {'type': 'string',\n",
       "   'pattern': '^TRISK$',\n",
       "   'title': 'Model Id',\n",
       "   'default': 'TRISK',\n",
       "   'description': 'Must be TRISK'},\n",
       "  'configParameters': {'title': 'Configuration parameters',\n",
       "   'type': 'object',\n",
       "   'properties': {'timeStart': {'type': 'string',\n",
       "     'format': 'date',\n",
       "     'default': '{CURRENT_YEAR}-03-01',\n",
       "     'title': 'Start date of calculation (YYYY-MM-DD)'},\n",
       "    'timeEnd': {'type': 'string',\n",
       "     'format': 'date',\n",
       "     'default': '{CURRENT_YEAR}-09-01',\n",
       "     'title': 'End date of calculation (YYYY-MM-DD)'},\n",
       "    'threshold': {'default': 15, 'type': 'number'}},\n",
       "   'required': ['timeStart', 'timeEnd', 'threshold']},\n",
       "  'weatherData': {'$ref': 'https://platform.ipmdecisions.net/api/wx/rest/schema/weatherdata'}},\n",
       " 'required': ['modelId', 'configParameters']}"
      ]
     },
     "execution_count": 50,
     "metadata": {},
     "output_type": "execute_result"
    }
   ],
   "source": [
    "ipm_model['execution']['input_schema']"
   ]
  },
  {
   "cell_type": "code",
   "execution_count": 51,
   "id": "987a0dd2",
   "metadata": {},
   "outputs": [
    {
     "data": {
      "text/plain": [
       "{'modelId': 'TRISK',\n",
       " 'configParameters': {'timeStart': '2020-05-01',\n",
       "  'timeEnd': '2020-05-03',\n",
       "  'threshold': 15},\n",
       " 'weatherData': {'timeStart': '2020-04-30T22:00:00Z',\n",
       "  'timeEnd': '2020-05-02T22:00:00Z',\n",
       "  'interval': 86400,\n",
       "  'weatherParameters': [1002],\n",
       "  'locationWeatherData': [{'longitude': 10.781989,\n",
       "    'latitude': 59.660468,\n",
       "    'altitude': 94.0,\n",
       "    'data': [[5.7], [8.2], [8.5]],\n",
       "    'length': 3,\n",
       "    'width': 1}]}}"
      ]
     },
     "execution_count": 51,
     "metadata": {},
     "output_type": "execute_result"
    }
   ],
   "source": [
    "ipm = IPM()\n",
    "input_data = json.loads(fake_input_data)\n",
    "#input_data = ipm_fakers.input_data(ipm_model)\n",
    "input_data"
   ]
  },
  {
   "cell_type": "code",
   "execution_count": 52,
   "id": "132c64c5",
   "metadata": {},
   "outputs": [
    {
     "data": {
      "text/plain": [
       "[0, 0, 0]"
      ]
     },
     "execution_count": 52,
     "metadata": {},
     "output_type": "execute_result"
    }
   ],
   "source": [
    "ipm.run_model(ipm_model, input_data)"
   ]
  },
  {
   "cell_type": "code",
   "execution_count": 53,
   "id": "77b04022",
   "metadata": {},
   "outputs": [
    {
     "data": {
      "text/plain": [
       "'http://127.0.0.1:8000/TRISK/'"
      ]
     },
     "execution_count": 53,
     "metadata": {},
     "output_type": "execute_result"
    }
   ],
   "source": [
    "ipm_model['execution']['endpoint']"
   ]
  },
  {
   "cell_type": "code",
   "execution_count": 54,
   "id": "cda2a224",
   "metadata": {},
   "outputs": [],
   "source": [
    "import psutil, os\n",
    "\n",
    "def kill_proc_tree(pid, including_parent=True):    \n",
    "    parent = psutil.Process(pid)\n",
    "    children = parent.children(recursive=True)\n",
    "    for child in children:\n",
    "        child.kill()\n",
    "    gone, still_alive = psutil.wait_procs(children, timeout=5)\n",
    "    if including_parent:\n",
    "        try:\n",
    "            parent.kill()\n",
    "            parent.wait(5)\n",
    "        except:\n",
    "            pass"
   ]
  },
  {
   "cell_type": "code",
   "execution_count": 55,
   "id": "904fba2f",
   "metadata": {},
   "outputs": [],
   "source": [
    "kill_proc_tree(pro.pid)"
   ]
  },
  {
   "cell_type": "code",
   "execution_count": null,
   "id": "37eee7dc",
   "metadata": {},
   "outputs": [],
   "source": []
  }
 ],
 "metadata": {
  "kernelspec": {
   "display_name": "Python 3 (ipykernel)",
   "language": "python",
   "name": "python3"
  },
  "language_info": {
   "codemirror_mode": {
    "name": "ipython",
    "version": 3
   },
   "file_extension": ".py",
   "mimetype": "text/x-python",
   "name": "python",
   "nbconvert_exporter": "python",
   "pygments_lexer": "ipython3",
   "version": "3.8.16"
  }
 },
 "nbformat": 4,
 "nbformat_minor": 5
}
