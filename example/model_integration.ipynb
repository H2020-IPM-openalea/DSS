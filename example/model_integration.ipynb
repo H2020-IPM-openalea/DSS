{
 "cells": [
  {
   "cell_type": "markdown",
   "id": "6188a59d",
   "metadata": {},
   "source": [
    "# Model integration"
   ]
  },
  {
   "cell_type": "markdown",
   "id": "6a196cef",
   "metadata": {},
   "source": [
    "This tutorial demonstrate how an openalea model can be exported as an IPM-compliant web service"
   ]
  },
  {
   "cell_type": "markdown",
   "id": "c97f96af",
   "metadata": {},
   "source": [
    "## Python Model creation"
   ]
  },
  {
   "cell_type": "markdown",
   "id": "82a5e244",
   "metadata": {},
   "source": [
    "Let export the folowwing simple model, that return some risk level, as a function of air temperature and a user-defined temperature threshold:"
   ]
  },
  {
   "cell_type": "code",
   "execution_count": 2,
   "id": "ac3e1838",
   "metadata": {},
   "outputs": [],
   "source": [
    "def t_risk(tair, threshold=15):\n",
    "    if tair <= threshold:\n",
    "        return 0\n",
    "    else:\n",
    "        return 1"
   ]
  },
  {
   "cell_type": "code",
   "execution_count": 3,
   "id": "f1e63b7d",
   "metadata": {},
   "outputs": [
    {
     "data": {
      "text/plain": [
       "(0, 1, 0)"
      ]
     },
     "execution_count": 3,
     "metadata": {},
     "output_type": "execute_result"
    }
   ],
   "source": [
    "t_risk(0), t_risk(20), t_risk(20, threshold=20)"
   ]
  },
  {
   "cell_type": "markdown",
   "id": "63b30799",
   "metadata": {},
   "source": [
    "## Import in OpenAlea"
   ]
  },
  {
   "cell_type": "markdown",
   "id": "9e673693",
   "metadata": {},
   "source": [
    "Let import it in OpenAlea, by embending it in a OpenAlea Node:"
   ]
  },
  {
   "cell_type": "code",
   "execution_count": 4,
   "id": "89deceae",
   "metadata": {},
   "outputs": [],
   "source": [
    "from openalea.core.node import FuncNode\n",
    "from openalea.core import IFloat, IInt"
   ]
  },
  {
   "cell_type": "code",
   "execution_count": 5,
   "id": "67383409",
   "metadata": {},
   "outputs": [],
   "source": [
    "    inputs = (dict(name='tair', interface=IFloat, value=None),\n",
    "             dict(name='threshold', interface=IFloat, value=15))\n",
    "    outputs = (dict(name='Risk', interface=IInt), )\n",
    "    my_node = FuncNode(inputs, outputs, t_risk)\n",
    "    my_node.name='TRISK'"
   ]
  },
  {
   "cell_type": "code",
   "execution_count": 6,
   "id": "14891537",
   "metadata": {},
   "outputs": [
    {
     "data": {
      "text/plain": [
       "(0, 1, 0)"
      ]
     },
     "execution_count": 6,
     "metadata": {},
     "output_type": "execute_result"
    }
   ],
   "source": [
    "my_node((0,)), my_node((20,)),my_node((20,20))"
   ]
  },
  {
   "cell_type": "code",
   "execution_count": 7,
   "id": "4946092b",
   "metadata": {},
   "outputs": [
    {
     "data": {
      "text/plain": [
       "('TRISK',\n",
       " [{'name': 'tair', 'interface': IFloat, 'value': None},\n",
       "  {'name': 'threshold', 'interface': IFloat, 'value': 15}],\n",
       " [{'name': 'Risk', 'interface': IInt}])"
      ]
     },
     "execution_count": 7,
     "metadata": {},
     "output_type": "execute_result"
    }
   ],
   "source": [
    "my_node.name, my_node.input_desc, my_node.output_desc"
   ]
  },
  {
   "cell_type": "markdown",
   "id": "abc971a8",
   "metadata": {},
   "source": [
    "## Create IPM model"
   ]
  },
  {
   "cell_type": "code",
   "execution_count": 8,
   "id": "7391fc43",
   "metadata": {},
   "outputs": [
    {
     "name": "stdout",
     "output_type": "stream",
     "text": [
      "Help on function dss_factory in module openalea.dss.dss_factory:\n",
      "\n",
      "dss_factory(node, interval=86400, weather_parameters=None, parameters=None, template=None)\n",
      "    Transform an openalea node in a IPM model json descriptor and generate a fastAPI script to launch webservice\n",
      "    \n",
      "    Args:\n",
      "        node: the node to be exported\n",
      "        interval: the time step of the model (s)\n",
      "        weather_parameters: a mapping between node input name and weather data codes, if any.\n",
      "        None if none of the input is a weather data\n",
      "        parameters: a list of node input name to be exposed as config parameters in IPM-Decison platform\n",
      "        template: (optional) an existing IPM model to be used as a template for filling missing information\n",
      "    Returns:\n",
      "        model: a json-like dict describing the model\n",
      "        dss_service: a string containing the script to be run for launching the web service\n",
      "\n"
     ]
    }
   ],
   "source": [
    "from openalea.dss import Manager\n",
    "from openalea.dss.dss_factory import dss_factory\n",
    "help(dss_factory)"
   ]
  },
  {
   "cell_type": "code",
   "execution_count": 9,
   "id": "b620d1b7",
   "metadata": {},
   "outputs": [],
   "source": [
    "m = Manager()\n",
    "template = m.get_model(\"no.nibio.vips\",\"PSILARTEMP\")"
   ]
  },
  {
   "cell_type": "code",
   "execution_count": 12,
   "id": "3532bde9",
   "metadata": {},
   "outputs": [],
   "source": [
    "model, service = dss_factory(my_node, weather_parameters={'tair': 1002},template=template)"
   ]
  },
  {
   "cell_type": "code",
   "execution_count": 13,
   "id": "8204ac51",
   "metadata": {},
   "outputs": [
    {
     "data": {
      "text/plain": [
       "{'name': 'Carrot fly flight model',\n",
       " 'id': 'TRISK',\n",
       " 'version': '1.0',\n",
       " 'purpose': 'Estimates risk of flight and egg laying in crop',\n",
       " 'description': 'THE PEST: The first generation of adult carrot fly emerge from pupae in the soil in the spring, and lay eggs close to the base of vulnerable crops. Larvae initial feed at the surface, then tunnel into the tap root. Adults emerge mid-July and can lead to a second generation. \\nTHE DECISION: Treatments may need to be applied soon after adults arrive in the crop, before larvae tunnel into the crop roots.  \\nTHE MODEL: The model determines the start of the flight period for the 1st generation of carrot rust fly based on accumuleted degree-days (260 day-degrees) over a base temperature of 5°C.  \\nTHE PARAMETERS: The model uses daily air temperature \\nSOURCE: Luke, Finland. \\nASSUMPTIONS: Be aware that in areas with field covers (plastic, single or double non-woven covers, etc.) with early crops the preceding season (either on the current field or neighboring fields), the flight period can start earlier than predicted due to higher soil temperature under the covers.\\nREFERENCE: Marjjula et al 2000\\n',\n",
       " 'type_of_decision': 'Short-term tactical',\n",
       " 'type_of_output': 'Risk indication',\n",
       " 'description_URL': 'https://www.vips-landbruk.no/forecasts/models/PSILARTEMP/',\n",
       " 'citation': None,\n",
       " 'keywords': 'none',\n",
       " 'platform_validated': True,\n",
       " 'pests': ['PSILRO'],\n",
       " 'crops': ['DAUCS'],\n",
       " 'authors': [{'name': '', 'email': 'vips@nibio.no', 'organization': 'NIBIO'}],\n",
       " 'execution': {'type': 'ONTHEFLY',\n",
       "  'endpoint': 'http://127.0.0.1:8000',\n",
       "  'form_method': 'post',\n",
       "  'content_type': 'application/json',\n",
       "  'input_schema': {'type': 'object',\n",
       "   'properties': {'modelId': {'type': 'string',\n",
       "     'pattern': '^TRISK$',\n",
       "     'title': 'Model Id',\n",
       "     'default': 'TRISK',\n",
       "     'description': 'Must be PSILARTEMP'},\n",
       "    'configParameters': {'title': 'Configuration parameters',\n",
       "     'type': 'object',\n",
       "     'properties': {'timeZone': {'type': 'string',\n",
       "       'title': 'Time zone (e.g. Europe/Oslo)',\n",
       "       'default': 'Europe/Oslo',\n",
       "       'options': {'infoText': 'The time zone information is used when hourly temperature values need to be converted to daily.'}},\n",
       "      'timeStart': {'type': 'string',\n",
       "       'format': 'date',\n",
       "       'default': '{CURRENT_YEAR}-03-01',\n",
       "       'title': 'Start date of calculation (YYYY-MM-DD)'},\n",
       "      'timeEnd': {'type': 'string',\n",
       "       'format': 'date',\n",
       "       'default': '{CURRENT_YEAR}-09-01',\n",
       "       'title': 'End date of calculation (YYYY-MM-DD)'}},\n",
       "     'required': ['timeZone', 'timeStart', 'timeEnd']},\n",
       "    'weatherData': {'$ref': 'https://platform.ipmdecisions.net/api/wx/rest/schema/weatherdata'}},\n",
       "   'required': ['modelId', 'configParameters']},\n",
       "  'input_schema_categories': {'hidden': ['modelId'],\n",
       "   'system': [],\n",
       "   'user_init': [],\n",
       "   'triggered': [],\n",
       "   'internal': []}},\n",
       " 'input': {'weather_parameters': [{'parameter_code': 1002, 'interval': 86400}],\n",
       "  'field_observation': None,\n",
       "  'weather_data_period_start': [{'determined_by': 'INPUT_SCHEMA_PROPERTY',\n",
       "    'value': 'configParameters.timeStart'}],\n",
       "  'weather_data_period_end': [{'determined_by': 'INPUT_SCHEMA_PROPERTY',\n",
       "    'value': 'configParameters.timeEnd'}]},\n",
       " 'valid_spatial': {'countries': ['NOR'], 'geoJSON': '{}'},\n",
       " 'output': {'warning_status_interpretation': [{'explanation': 'The flight period of the 1st generation is over.',\n",
       "    'recommended_action': 'Consult your advisory service for action conserning the 2nd generation.'},\n",
       "   {'explanation': 'Data is missing',\n",
       "    'recommended_action': 'Consult your advisory service if preceding warnings were yellow/red or if accumulated degree-days were close to 260 degree-days'},\n",
       "   {'explanation': 'Consult your advisory service if preceding warnings were yellow/red or if accumulated degree-days were close to 260 degree-days',\n",
       "    'recommended_action': 'No action needed. Consider deploying yellow sticky traps in your fields when 260 degree-days is approching.'},\n",
       "   {'explanation': 'Based on current data available, conditions are approaching 260 day-degrees over a base of 5°C. The risk of adult carrot fly flight activity is increasing, which indicates that egg laying will soon occur on vulnerable carrot crops.  Increase monitoring efforts in vulnerable crops, and apply suitable treatment according to need.',\n",
       "    'recommended_action': 'Deploy yellow sticky traps in your fields if not already done. Consult your advisory service.'},\n",
       "   {'explanation': 'The threshold of 260 day-degrees over a base of 5°C has been reached.The risk of adult carrot fly flight activity is high, which indicates that egg laying will soon occur on vulnerable carrot crops.  Monitor vulnerable crops for in-field activity and apply suitable treatments according to need. ',\n",
       "    'recommended_action': 'Consult your advisory service. Consider action to protect your crop based on observations in your own field.'}],\n",
       "  'result_parameters': [{'id': 'TMDD5C',\n",
       "    'title': 'Accumulated day degrees',\n",
       "    'description': 'The accumulated day degrees with a base temperature of 5 degrees celcius',\n",
       "    'chart_info': {'default_visible': True,\n",
       "     'unit': '&deg;C',\n",
       "     'color': '#0033cc',\n",
       "     'chart_type': 'line'}},\n",
       "   {'id': 'THRESHOLD_1',\n",
       "    'title': 'Threshold for start of flight period',\n",
       "    'description': 'When the accumulated day degrees exceed this threshold, the flight period is starting up',\n",
       "    'chart_info': {'default_visible': True,\n",
       "     'unit': '&deg;C',\n",
       "     'color': '#ffff00',\n",
       "     'chart_type': 'line'}},\n",
       "   {'id': 'THRESHOLD_2',\n",
       "    'title': 'Threshold for peak flight period',\n",
       "    'description': 'When the accumulated day degrees exceed this threshold, you enter the peak flight period',\n",
       "    'chart_info': {'default_visible': True,\n",
       "     'unit': '&deg;C',\n",
       "     'color': '#ff0000',\n",
       "     'chart_type': 'line'}},\n",
       "   {'id': 'THRESHOLD_3',\n",
       "    'title': 'Threshold for end of 1st generation flight period',\n",
       "    'description': 'When the accumulated day degrees exceed this threshold, the 1st generation flight period is over',\n",
       "    'chart_info': {'default_visible': True,\n",
       "     'unit': '&deg;C',\n",
       "     'color': '#999999',\n",
       "     'chart_type': 'line'}}],\n",
       "  'chart_groups': [{'id': 'G1',\n",
       "    'title': 'Day degrees',\n",
       "    'result_parameter_ids': ['TMDD5C',\n",
       "     'THRESHOLD_1',\n",
       "     'THRESHOLD_2',\n",
       "     'THRESHOLD_3']}],\n",
       "  'chart_heading': 'Accumulated day degrees'}}"
      ]
     },
     "execution_count": 13,
     "metadata": {},
     "output_type": "execute_result"
    }
   ],
   "source": [
    "model"
   ]
  },
  {
   "cell_type": "code",
   "execution_count": 15,
   "id": "ebc83e1f",
   "metadata": {},
   "outputs": [
    {
     "name": "stdout",
     "output_type": "stream",
     "text": [
      "from fastapi import FastAPI\n",
      "\n",
      "app = FastAPI()\n",
      "\n",
      "@app.post(\"dss/model/no.nibio.vips/TRISK\")\n",
      "async def model_evaluation(item):\n",
      "    return item\n",
      "\n"
     ]
    }
   ],
   "source": [
    "print(service)"
   ]
  },
  {
   "cell_type": "code",
   "execution_count": null,
   "id": "d930f288",
   "metadata": {},
   "outputs": [],
   "source": []
  }
 ],
 "metadata": {
  "kernelspec": {
   "display_name": "Python 3 (ipykernel)",
   "language": "python",
   "name": "python3"
  },
  "language_info": {
   "codemirror_mode": {
    "name": "ipython",
    "version": 3
   },
   "file_extension": ".py",
   "mimetype": "text/x-python",
   "name": "python",
   "nbconvert_exporter": "python",
   "pygments_lexer": "ipython3",
   "version": "3.8.16"
  }
 },
 "nbformat": 4,
 "nbformat_minor": 5
}
