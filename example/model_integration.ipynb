{
 "cells": [
  {
   "cell_type": "markdown",
   "id": "6188a59d",
   "metadata": {},
   "source": [
    "# Model integration"
   ]
  },
  {
   "cell_type": "markdown",
   "id": "6a196cef",
   "metadata": {},
   "source": [
    "This tutorial demonstrate how an openalea model can be exported as an IPM-compliant web service"
   ]
  },
  {
   "cell_type": "markdown",
   "id": "c97f96af",
   "metadata": {},
   "source": [
    "## Python Model creation"
   ]
  },
  {
   "cell_type": "markdown",
   "id": "82a5e244",
   "metadata": {},
   "source": [
    "Let export the folowing simple model, that return some risk level, as a function of air temperature and a user-defined temperature threshold:"
   ]
  },
  {
   "cell_type": "code",
   "execution_count": 1,
   "id": "ac3e1838",
   "metadata": {},
   "outputs": [],
   "source": [
    "def t_risk(tair, threshold=15):\n",
    "    if tair <= threshold:\n",
    "        return 0\n",
    "    else:\n",
    "        return 1"
   ]
  },
  {
   "cell_type": "code",
   "execution_count": 2,
   "id": "f1e63b7d",
   "metadata": {},
   "outputs": [
    {
     "data": {
      "text/plain": [
       "(0, 1, 0)"
      ]
     },
     "execution_count": 2,
     "metadata": {},
     "output_type": "execute_result"
    }
   ],
   "source": [
    "t_risk(0), t_risk(20), t_risk(20, threshold=20)"
   ]
  },
  {
   "cell_type": "markdown",
   "id": "63b30799",
   "metadata": {},
   "source": [
    "## Import in OpenAlea"
   ]
  },
  {
   "cell_type": "markdown",
   "id": "9e673693",
   "metadata": {},
   "source": [
    "Let import it in OpenAlea, by embending it in a OpenAlea Node:"
   ]
  },
  {
   "cell_type": "code",
   "execution_count": 3,
   "id": "89deceae",
   "metadata": {},
   "outputs": [],
   "source": [
    "from openalea.core.node import FuncNode\n",
    "from openalea.core import IFloat, IInt"
   ]
  },
  {
   "cell_type": "code",
   "execution_count": 4,
   "id": "67383409",
   "metadata": {},
   "outputs": [],
   "source": [
    "inputs = (dict(name='tair', interface=IFloat, value=None),\n",
    "          dict(name='threshold', interface=IFloat, value=15))\n",
    "outputs = (dict(name='Risk', interface=IInt), )\n",
    "my_node = FuncNode(inputs, outputs, t_risk)\n",
    "my_node.name='TRISK'"
   ]
  },
  {
   "cell_type": "code",
   "execution_count": 5,
   "id": "14891537",
   "metadata": {},
   "outputs": [
    {
     "data": {
      "text/plain": [
       "(0, 1, 0)"
      ]
     },
     "execution_count": 5,
     "metadata": {},
     "output_type": "execute_result"
    }
   ],
   "source": [
    "my_node((0,)), my_node((20,)),my_node((20,20))"
   ]
  },
  {
   "cell_type": "code",
   "execution_count": 6,
   "id": "4946092b",
   "metadata": {},
   "outputs": [
    {
     "data": {
      "text/plain": [
       "('TRISK',\n",
       " [{'name': 'tair', 'interface': IFloat, 'value': None},\n",
       "  {'name': 'threshold', 'interface': IFloat, 'value': 15}],\n",
       " [{'name': 'Risk', 'interface': IInt}])"
      ]
     },
     "execution_count": 6,
     "metadata": {},
     "output_type": "execute_result"
    }
   ],
   "source": [
    "my_node.name, my_node.input_desc, my_node.output_desc"
   ]
  },
  {
   "cell_type": "markdown",
   "id": "abc971a8",
   "metadata": {},
   "source": [
    "## Create IPM model"
   ]
  },
  {
   "cell_type": "code",
   "execution_count": 7,
   "id": "7391fc43",
   "metadata": {},
   "outputs": [
    {
     "name": "stdout",
     "output_type": "stream",
     "text": [
      "Help on function dss_factory in module openalea.dss.dss_factory:\n",
      "\n",
      "dss_factory(model_id, node, factory=None, interval=86400, weather_parameters=None, config_params=None, decision_support=None, meta=None)\n",
      "    Transform an openalea node in a IPM model json descriptor and generate a fastAPI script to launch webservice\n",
      "    \n",
      "    Args:\n",
      "        node: the node to be exported\n",
      "        factory\n",
      "    \n",
      "        : the node factory associated to the node (optional)\n",
      "        interval: the time step of the model (s)\n",
      "        weather_parameters: a mapping between node input name and weather data codes, if any.\n",
      "        None if none of the input is a weather data\n",
      "        parameters: a list of node input name to be exposed as config parameters in IPM-Decison platform\n",
      "        meta : model meta informations\n",
      "    Returns:\n",
      "        model: a json-like dict describing the model\n",
      "        dss_service: a string containing the script to be run for launching the web service\n",
      "\n"
     ]
    }
   ],
   "source": [
    "from openalea.dss.dss_factory import dss_factory\n",
    "help(dss_factory)"
   ]
  },
  {
   "cell_type": "markdown",
   "id": "368de531",
   "metadata": {},
   "source": [
    "We will define a simple decision_support function that help a user interpret the risk level of our model"
   ]
  },
  {
   "cell_type": "code",
   "execution_count": 8,
   "id": "2de8dee5",
   "metadata": {},
   "outputs": [],
   "source": [
    "decision_support = list(range(2))\n",
    "decision_support[0] = {'explanation': 'Risk is low',\n",
    "                      'recommended_action': 'No particular action is required'}\n",
    "decision_support[1] = {'explanation': 'Risk is high',\n",
    "                      'recommended_action': 'Be carreful !'}"
   ]
  },
  {
   "cell_type": "code",
   "execution_count": 9,
   "id": "3532bde9",
   "metadata": {},
   "outputs": [],
   "source": [
    "input_mapping = {'weather_parameters': {'tair': 1002}, 'config_params': ['threshold']}\n",
    "\n",
    "ipm_model, service = dss_factory(my_node.name, my_node, decision_support=decision_support, **input_mapping)"
   ]
  },
  {
   "cell_type": "code",
   "execution_count": 10,
   "id": "8204ac51",
   "metadata": {},
   "outputs": [
    {
     "data": {
      "text/plain": [
       "{'id': 'TRISK',\n",
       " 'name': 'Sample model',\n",
       " 'version': '0.0.0',\n",
       " 'purpose': 'Sample meta informations generated by openalea dss facctory',\n",
       " 'description': 'Please provide here a concise description of the model',\n",
       " 'type_of_decision': 'Short-term tactical',\n",
       " 'type_of_output': 'Risk indication',\n",
       " 'description_url': None,\n",
       " 'citation': None,\n",
       " 'keywords': None,\n",
       " 'platform_validated': False,\n",
       " 'pests': [],\n",
       " 'crops': [],\n",
       " 'authors': [{'name': 'Anonymous',\n",
       "   'email': 'anonymous@mail',\n",
       "   'organization': 'Unknown'}],\n",
       " 'valid_spatial': {'countries': [], 'geoJSON': '{}'},\n",
       " 'execution': {'type': 'ONTHEFLY',\n",
       "  'endpoint': 'http://127.0.0.1:8000/TRISK/',\n",
       "  'form_method': 'post',\n",
       "  'content_type': 'application/json',\n",
       "  'input_schema_categories': {'hidden': ['modelId'],\n",
       "   'system': [],\n",
       "   'user_init': [],\n",
       "   'triggered': [],\n",
       "   'internal': []},\n",
       "  'input_schema': {'type': 'object',\n",
       "   'properties': {'configParameters': {'title': 'Configuration parameters',\n",
       "     'type': 'object',\n",
       "     'properties': {'timeZone': {'type': 'string',\n",
       "       'title': 'Time zone (e.g. Europe/Oslo)',\n",
       "       'default': 'Europe/Oslo',\n",
       "       'options': {'infoText': 'The time zone information is used when hourly temperature values need to be converted to daily.'}},\n",
       "      'timeStart': {'type': 'string',\n",
       "       'format': 'date',\n",
       "       'default': '{CURRENT_YEAR}-03-01',\n",
       "       'title': 'Start date of calculation (YYYY-MM-DD)'},\n",
       "      'timeEnd': {'type': 'string',\n",
       "       'format': 'date',\n",
       "       'default': '{CURRENT_YEAR}-09-01',\n",
       "       'title': 'End date of calculation (YYYY-MM-DD)'},\n",
       "      'threshold': {'default': 15, 'type': 'number'}},\n",
       "     'required': ['timeZone', 'timeStart', 'timeEnd', 'threshold']},\n",
       "    'modelId': {'title': 'Model_Id',\n",
       "     'type': 'string',\n",
       "     'pattern': '^TRISK$',\n",
       "     'default': 'TRISK',\n",
       "     'description': 'Must be TRISK'},\n",
       "    'weatherData': {'$ref': 'https://platform.ipmdecisions.net/api/wx/rest/schema/weatherdata'}},\n",
       "   'required': ['modelId', 'configParameters', 'weatherData']}},\n",
       " 'input': {'weather_parameters': [{'parameter_code': 1002, 'interval': 86400}],\n",
       "  'field_observation': None,\n",
       "  'weather_data_period_start': [{'determined_by': 'INPUT_SCHEMA_PROPERTY',\n",
       "    'value': 'configParameters.timeStart'}],\n",
       "  'weather_data_period_end': [{'determined_by': 'INPUT_SCHEMA_PROPERTY',\n",
       "    'value': 'configParameters.timeEnd'}]},\n",
       " 'output': {'warning_status_interpretation': [{'explanation': 'Risk is low',\n",
       "    'recommended_action': 'No particular action is required'},\n",
       "   {'explanation': 'Risk is high', 'recommended_action': 'Be carreful !'}],\n",
       "  'result_parameters': [{'id': 'Risk'}]}}"
      ]
     },
     "execution_count": 10,
     "metadata": {},
     "output_type": "execute_result"
    }
   ],
   "source": [
    "ipm_model"
   ]
  },
  {
   "cell_type": "markdown",
   "id": "cf766acc",
   "metadata": {},
   "source": [
    "## Launch the Webservice"
   ]
  },
  {
   "cell_type": "code",
   "execution_count": 11,
   "id": "0de15e8d",
   "metadata": {},
   "outputs": [],
   "source": [
    "from openalea.dss.dss_factory import start_service, stop_service\n",
    "\n",
    "http, handler = start_service(service)"
   ]
  },
  {
   "cell_type": "code",
   "execution_count": 12,
   "id": "e742ac01",
   "metadata": {},
   "outputs": [],
   "source": [
    "from IPython.display import IFrame"
   ]
  },
  {
   "cell_type": "code",
   "execution_count": 13,
   "id": "ef17859e",
   "metadata": {},
   "outputs": [
    {
     "data": {
      "text/html": [
       "\n",
       "        <iframe\n",
       "            width=\"800\"\n",
       "            height=\"400\"\n",
       "            src=\"http://127.0.0.1:8000/docs\"\n",
       "            frameborder=\"0\"\n",
       "            allowfullscreen\n",
       "            \n",
       "        ></iframe>\n",
       "        "
      ],
      "text/plain": [
       "<IPython.lib.display.IFrame at 0x1cb67262ee0>"
      ]
     },
     "execution_count": 13,
     "metadata": {},
     "output_type": "execute_result"
    }
   ],
   "source": [
    "IFrame(http + '/docs', 800,400)"
   ]
  },
  {
   "cell_type": "markdown",
   "id": "f6989072",
   "metadata": {},
   "source": [
    "## Try it out using the fake input generated below !"
   ]
  },
  {
   "cell_type": "code",
   "execution_count": 14,
   "id": "e21eacf9",
   "metadata": {},
   "outputs": [],
   "source": [
    "import agroservices.ipm.fakers as ipm_fakers\n",
    "import json"
   ]
  },
  {
   "cell_type": "code",
   "execution_count": 15,
   "id": "5018630c",
   "metadata": {},
   "outputs": [
    {
     "data": {
      "text/plain": [
       "'{\"configParameters\": {\"timeZone\": \"Europe/Oslo\", \"timeStart\": \"2023-03-01\", \"timeEnd\": \"2023-09-01\", \"threshold\": 15.0}, \"modelId\": \"TRISK\", \"weatherData\": {\"weatherParameters\": [1002], \"timeStart\": \"2023-03-01T00:00:00+01:00\", \"timeEnd\": \"2023-09-01T00:00:00+02:00\", \"interval\": 86400, \"locationWeatherData\": [{\"longitude\": 71.97115723766738, \"latitude\": 50.69160831176915, \"altitude\": 0, \"data\": [[1.3], [1.6], [2.9], [7.3], [9.9], [8.7], [0.5], [1.0], [0.6], [7.0], [3.6], [8.6], [4.3], [3.9], [7.9], [1.4], [0.8], [4.9], [1.9], [1.5], [5.3], [6.2], [1.7], [6.6], [1.1], [9.5], [9.9], [1.4], [4.7], [6.0], [4.4], [7.2], [3.8], [2.8], [5.4], [4.8], [4.2], [8.4], [2.6], [4.2], [6.8], [9.8], [1.6], [6.5], [0.3], [2.2], [0.4], [1.6], [7.2], [3.2], [8.3], [9.1], [4.7], [7.4], [3.5], [6.0], [0.6], [0.5], [5.3], [3.3], [0.4], [7.8], [1.8], [9.7], [8.0], [3.0], [8.8], [7.2], [4.8], [8.5], [7.1], [1.3], [5.1], [3.0], [1.2], [3.8], [8.3], [9.5], [9.9], [2.0], [6.4], [6.4], [8.4], [8.3], [4.5], [2.0], [6.2], [7.2], [2.3], [9.6], [3.4], [5.6], [9.9], [7.5], [8.4], [0.6], [0.8], [1.2], [7.1], [2.4], [1.0], [2.6], [9.5], [1.3], [8.1], [4.8], [5.2], [0.6], [5.1], [0.8], [7.2], [9.4], [5.3], [6.3], [4.5], [7.4], [9.9], [1.4], [3.4], [5.2], [0.1], [0.5], [1.7], [3.9], [9.0], [2.2], [1.4], [0.7], [3.9], [0.0], [6.9], [1.3], [6.1], [4.7], [3.5], [4.2], [2.7], [0.2], [6.7], [2.3], [2.5], [4.4], [2.2], [1.6], [3.3], [9.0], [7.5], [3.1], [6.7], [1.5], [6.8], [2.6], [5.7], [6.3], [9.5], [5.9], [4.3], [8.6], [5.8], [3.0], [8.4], [2.7], [1.4], [1.2], [4.5], [7.3], [6.6], [5.4], [8.4], [5.6], [9.9], [7.1], [3.3], [2.7], [3.7], [7.5], [2.9], [7.8], [5.0], [1.7], [5.3], [8.2], [5.9], [2.4]], \"length\": 184, \"width\": 1}]}}'"
      ]
     },
     "execution_count": 15,
     "metadata": {},
     "output_type": "execute_result"
    }
   ],
   "source": [
    "input_data = ipm_fakers.input_data(ipm_model)\n",
    "json.dumps(input_data)"
   ]
  },
  {
   "cell_type": "markdown",
   "id": "26c6bee1",
   "metadata": {},
   "source": [
    "## Test the exported model"
   ]
  },
  {
   "cell_type": "code",
   "execution_count": 16,
   "id": "af96fa19",
   "metadata": {},
   "outputs": [],
   "source": [
    "from agroservices.ipm.ipm import IPM"
   ]
  },
  {
   "cell_type": "code",
   "execution_count": 17,
   "id": "987a0dd2",
   "metadata": {},
   "outputs": [
    {
     "data": {
      "text/plain": [
       "{'configParameters': {'timeZone': 'Europe/Oslo',\n",
       "  'timeStart': '2023-03-01',\n",
       "  'timeEnd': '2023-09-01',\n",
       "  'threshold': 15.0},\n",
       " 'modelId': 'TRISK',\n",
       " 'weatherData': {'weatherParameters': [1002],\n",
       "  'timeStart': '2023-03-01T00:00:00+01:00',\n",
       "  'timeEnd': '2023-09-01T00:00:00+02:00',\n",
       "  'interval': 86400,\n",
       "  'locationWeatherData': [{'longitude': 0.7793325221386915,\n",
       "    'latitude': 61.65501058067173,\n",
       "    'altitude': 0,\n",
       "    'data': [[6.5],\n",
       "     [4.5],\n",
       "     [7.6],\n",
       "     [2.2],\n",
       "     [7.1],\n",
       "     [6.9],\n",
       "     [8.7],\n",
       "     [1.6],\n",
       "     [3.7],\n",
       "     [8.9],\n",
       "     [6.0],\n",
       "     [6.1],\n",
       "     [5.7],\n",
       "     [3.6],\n",
       "     [3.9],\n",
       "     [3.9],\n",
       "     [3.0],\n",
       "     [3.5],\n",
       "     [4.7],\n",
       "     [8.8],\n",
       "     [5.2],\n",
       "     [8.8],\n",
       "     [1.7],\n",
       "     [3.5],\n",
       "     [1.7],\n",
       "     [7.0],\n",
       "     [5.3],\n",
       "     [5.8],\n",
       "     [2.2],\n",
       "     [0.3],\n",
       "     [8.4],\n",
       "     [7.4],\n",
       "     [7.1],\n",
       "     [1.7],\n",
       "     [4.1],\n",
       "     [8.1],\n",
       "     [4.4],\n",
       "     [2.6],\n",
       "     [5.1],\n",
       "     [6.8],\n",
       "     [6.4],\n",
       "     [3.8],\n",
       "     [4.1],\n",
       "     [8.5],\n",
       "     [3.3],\n",
       "     [9.9],\n",
       "     [7.1],\n",
       "     [6.1],\n",
       "     [7.4],\n",
       "     [5.9],\n",
       "     [4.6],\n",
       "     [4.8],\n",
       "     [8.1],\n",
       "     [3.9],\n",
       "     [9.4],\n",
       "     [3.6],\n",
       "     [3.4],\n",
       "     [3.4],\n",
       "     [9.9],\n",
       "     [2.0],\n",
       "     [0.7],\n",
       "     [6.9],\n",
       "     [2.2],\n",
       "     [9.0],\n",
       "     [4.3],\n",
       "     [9.9],\n",
       "     [0.2],\n",
       "     [2.0],\n",
       "     [1.2],\n",
       "     [7.0],\n",
       "     [1.6],\n",
       "     [1.6],\n",
       "     [5.9],\n",
       "     [7.9],\n",
       "     [5.6],\n",
       "     [7.9],\n",
       "     [6.9],\n",
       "     [5.9],\n",
       "     [5.0],\n",
       "     [2.4],\n",
       "     [5.0],\n",
       "     [6.2],\n",
       "     [0.1],\n",
       "     [9.4],\n",
       "     [8.3],\n",
       "     [8.6],\n",
       "     [9.4],\n",
       "     [2.7],\n",
       "     [0.7],\n",
       "     [0.2],\n",
       "     [1.6],\n",
       "     [4.9],\n",
       "     [7.4],\n",
       "     [5.4],\n",
       "     [0.7],\n",
       "     [6.4],\n",
       "     [6.1],\n",
       "     [3.8],\n",
       "     [6.8],\n",
       "     [1.5],\n",
       "     [2.8],\n",
       "     [3.0],\n",
       "     [5.4],\n",
       "     [1.7],\n",
       "     [9.6],\n",
       "     [8.7],\n",
       "     [6.8],\n",
       "     [5.3],\n",
       "     [9.1],\n",
       "     [4.9],\n",
       "     [8.3],\n",
       "     [7.9],\n",
       "     [7.0],\n",
       "     [6.0],\n",
       "     [4.9],\n",
       "     [4.4],\n",
       "     [5.4],\n",
       "     [5.0],\n",
       "     [1.6],\n",
       "     [4.9],\n",
       "     [6.9],\n",
       "     [6.5],\n",
       "     [1.7],\n",
       "     [7.7],\n",
       "     [3.7],\n",
       "     [8.8],\n",
       "     [8.9],\n",
       "     [4.4],\n",
       "     [2.9],\n",
       "     [5.8],\n",
       "     [0.5],\n",
       "     [4.8],\n",
       "     [8.3],\n",
       "     [7.3],\n",
       "     [5.4],\n",
       "     [3.6],\n",
       "     [1.7],\n",
       "     [3.9],\n",
       "     [4.5],\n",
       "     [9.9],\n",
       "     [9.5],\n",
       "     [7.7],\n",
       "     [2.6],\n",
       "     [6.6],\n",
       "     [3.1],\n",
       "     [6.3],\n",
       "     [5.6],\n",
       "     [8.1],\n",
       "     [1.1],\n",
       "     [1.1],\n",
       "     [9.5],\n",
       "     [4.8],\n",
       "     [0.7],\n",
       "     [2.4],\n",
       "     [8.7],\n",
       "     [7.3],\n",
       "     [9.7],\n",
       "     [3.3],\n",
       "     [4.8],\n",
       "     [8.4],\n",
       "     [9.7],\n",
       "     [7.0],\n",
       "     [1.4],\n",
       "     [1.4],\n",
       "     [1.4],\n",
       "     [1.5],\n",
       "     [2.2],\n",
       "     [0.3],\n",
       "     [8.0],\n",
       "     [7.4],\n",
       "     [5.2],\n",
       "     [7.3],\n",
       "     [5.3],\n",
       "     [2.7],\n",
       "     [1.3],\n",
       "     [3.1],\n",
       "     [5.9],\n",
       "     [4.7],\n",
       "     [1.7],\n",
       "     [7.2],\n",
       "     [1.9],\n",
       "     [0.3],\n",
       "     [1.5],\n",
       "     [7.8]],\n",
       "    'length': 184,\n",
       "    'width': 1}]}}"
      ]
     },
     "execution_count": 17,
     "metadata": {},
     "output_type": "execute_result"
    }
   ],
   "source": [
    "ipm = IPM()\n",
    "input_data = ipm_fakers.input_data(ipm_model)\n",
    "input_data"
   ]
  },
  {
   "cell_type": "code",
   "execution_count": 20,
   "id": "132c64c5",
   "metadata": {},
   "outputs": [
    {
     "data": {
      "text/plain": [
       "{'timeStart': '2023-03-01T00:00:00+01:00',\n",
       " 'timeEnd': '2023-09-01T00:00:00+02:00',\n",
       " 'interval': 86400,\n",
       " 'resultParameters': ['Risk'],\n",
       " 'locationResult': [{'longitude': 0.7793325221386915,\n",
       "   'latitude': 61.65501058067173,\n",
       "   'altitude': 0.0,\n",
       "   'data': [[0],\n",
       "    [0],\n",
       "    [0],\n",
       "    [0],\n",
       "    [0],\n",
       "    [0],\n",
       "    [0],\n",
       "    [0],\n",
       "    [0],\n",
       "    [0],\n",
       "    [0],\n",
       "    [0],\n",
       "    [0],\n",
       "    [0],\n",
       "    [0],\n",
       "    [0],\n",
       "    [0],\n",
       "    [0],\n",
       "    [0],\n",
       "    [0],\n",
       "    [0],\n",
       "    [0],\n",
       "    [0],\n",
       "    [0],\n",
       "    [0],\n",
       "    [0],\n",
       "    [0],\n",
       "    [0],\n",
       "    [0],\n",
       "    [0],\n",
       "    [0],\n",
       "    [0],\n",
       "    [0],\n",
       "    [0],\n",
       "    [0],\n",
       "    [0],\n",
       "    [0],\n",
       "    [0],\n",
       "    [0],\n",
       "    [0],\n",
       "    [0],\n",
       "    [0],\n",
       "    [0],\n",
       "    [0],\n",
       "    [0],\n",
       "    [0],\n",
       "    [0],\n",
       "    [0],\n",
       "    [0],\n",
       "    [0],\n",
       "    [0],\n",
       "    [0],\n",
       "    [0],\n",
       "    [0],\n",
       "    [0],\n",
       "    [0],\n",
       "    [0],\n",
       "    [0],\n",
       "    [0],\n",
       "    [0],\n",
       "    [0],\n",
       "    [0],\n",
       "    [0],\n",
       "    [0],\n",
       "    [0],\n",
       "    [0],\n",
       "    [0],\n",
       "    [0],\n",
       "    [0],\n",
       "    [0],\n",
       "    [0],\n",
       "    [0],\n",
       "    [0],\n",
       "    [0],\n",
       "    [0],\n",
       "    [0],\n",
       "    [0],\n",
       "    [0],\n",
       "    [0],\n",
       "    [0],\n",
       "    [0],\n",
       "    [0],\n",
       "    [0],\n",
       "    [0],\n",
       "    [0],\n",
       "    [0],\n",
       "    [0],\n",
       "    [0],\n",
       "    [0],\n",
       "    [0],\n",
       "    [0],\n",
       "    [0],\n",
       "    [0],\n",
       "    [0],\n",
       "    [0],\n",
       "    [0],\n",
       "    [0],\n",
       "    [0],\n",
       "    [0],\n",
       "    [0],\n",
       "    [0],\n",
       "    [0],\n",
       "    [0],\n",
       "    [0],\n",
       "    [0],\n",
       "    [0],\n",
       "    [0],\n",
       "    [0],\n",
       "    [0],\n",
       "    [0],\n",
       "    [0],\n",
       "    [0],\n",
       "    [0],\n",
       "    [0],\n",
       "    [0],\n",
       "    [0],\n",
       "    [0],\n",
       "    [0],\n",
       "    [0],\n",
       "    [0],\n",
       "    [0],\n",
       "    [0],\n",
       "    [0],\n",
       "    [0],\n",
       "    [0],\n",
       "    [0],\n",
       "    [0],\n",
       "    [0],\n",
       "    [0],\n",
       "    [0],\n",
       "    [0],\n",
       "    [0],\n",
       "    [0],\n",
       "    [0],\n",
       "    [0],\n",
       "    [0],\n",
       "    [0],\n",
       "    [0],\n",
       "    [0],\n",
       "    [0],\n",
       "    [0],\n",
       "    [0],\n",
       "    [0],\n",
       "    [0],\n",
       "    [0],\n",
       "    [0],\n",
       "    [0],\n",
       "    [0],\n",
       "    [0],\n",
       "    [0],\n",
       "    [0],\n",
       "    [0],\n",
       "    [0],\n",
       "    [0],\n",
       "    [0],\n",
       "    [0],\n",
       "    [0],\n",
       "    [0],\n",
       "    [0],\n",
       "    [0],\n",
       "    [0],\n",
       "    [0],\n",
       "    [0],\n",
       "    [0],\n",
       "    [0],\n",
       "    [0],\n",
       "    [0],\n",
       "    [0],\n",
       "    [0],\n",
       "    [0],\n",
       "    [0],\n",
       "    [0],\n",
       "    [0],\n",
       "    [0],\n",
       "    [0],\n",
       "    [0],\n",
       "    [0],\n",
       "    [0],\n",
       "    [0],\n",
       "    [0],\n",
       "    [0],\n",
       "    [0],\n",
       "    [0],\n",
       "    [0]],\n",
       "   'length': 184,\n",
       "   'width': 1}]}"
      ]
     },
     "execution_count": 20,
     "metadata": {},
     "output_type": "execute_result"
    }
   ],
   "source": [
    "output=ipm.run_model(ipm_model, input_data)\n",
    "output"
   ]
  },
  {
   "cell_type": "code",
   "execution_count": 21,
   "id": "7b5bc413",
   "metadata": {},
   "outputs": [
    {
     "data": {
      "text/html": [
       "<div>\n",
       "<style scoped>\n",
       "    .dataframe tbody tr th:only-of-type {\n",
       "        vertical-align: middle;\n",
       "    }\n",
       "\n",
       "    .dataframe tbody tr th {\n",
       "        vertical-align: top;\n",
       "    }\n",
       "\n",
       "    .dataframe thead th {\n",
       "        text-align: right;\n",
       "    }\n",
       "</style>\n",
       "<table border=\"1\" class=\"dataframe\">\n",
       "  <thead>\n",
       "    <tr style=\"text-align: right;\">\n",
       "      <th></th>\n",
       "      <th>Risk</th>\n",
       "    </tr>\n",
       "  </thead>\n",
       "  <tbody>\n",
       "    <tr>\n",
       "      <th>0</th>\n",
       "      <td>0</td>\n",
       "    </tr>\n",
       "    <tr>\n",
       "      <th>1</th>\n",
       "      <td>0</td>\n",
       "    </tr>\n",
       "    <tr>\n",
       "      <th>2</th>\n",
       "      <td>0</td>\n",
       "    </tr>\n",
       "    <tr>\n",
       "      <th>3</th>\n",
       "      <td>0</td>\n",
       "    </tr>\n",
       "    <tr>\n",
       "      <th>4</th>\n",
       "      <td>0</td>\n",
       "    </tr>\n",
       "    <tr>\n",
       "      <th>...</th>\n",
       "      <td>...</td>\n",
       "    </tr>\n",
       "    <tr>\n",
       "      <th>179</th>\n",
       "      <td>0</td>\n",
       "    </tr>\n",
       "    <tr>\n",
       "      <th>180</th>\n",
       "      <td>0</td>\n",
       "    </tr>\n",
       "    <tr>\n",
       "      <th>181</th>\n",
       "      <td>0</td>\n",
       "    </tr>\n",
       "    <tr>\n",
       "      <th>182</th>\n",
       "      <td>0</td>\n",
       "    </tr>\n",
       "    <tr>\n",
       "      <th>183</th>\n",
       "      <td>0</td>\n",
       "    </tr>\n",
       "  </tbody>\n",
       "</table>\n",
       "<p>184 rows × 1 columns</p>\n",
       "</div>"
      ],
      "text/plain": [
       "     Risk\n",
       "0       0\n",
       "1       0\n",
       "2       0\n",
       "3       0\n",
       "4       0\n",
       "..    ...\n",
       "179     0\n",
       "180     0\n",
       "181     0\n",
       "182     0\n",
       "183     0\n",
       "\n",
       "[184 rows x 1 columns]"
      ]
     },
     "execution_count": 21,
     "metadata": {},
     "output_type": "execute_result"
    }
   ],
   "source": [
    "import pandas\n",
    "df = pandas.DataFrame(dict(zip(output['resultParameters'],zip(*output['locationResult'][0]['data']))))\n",
    "df"
   ]
  },
  {
   "cell_type": "markdown",
   "id": "420fb5d8",
   "metadata": {},
   "source": [
    "# Stop service"
   ]
  },
  {
   "cell_type": "code",
   "execution_count": 20,
   "id": "2f8e3599",
   "metadata": {},
   "outputs": [
    {
     "ename": "NoSuchProcess",
     "evalue": "process PID not found (pid=14536)",
     "output_type": "error",
     "traceback": [
      "\u001b[1;31m---------------------------------------------------------------------------\u001b[0m",
      "\u001b[1;31mProcessLookupError\u001b[0m                        Traceback (most recent call last)",
      "File \u001b[1;32m~\\Miniconda3\\envs\\ipm\\lib\\site-packages\\psutil\\_pswindows.py:694\u001b[0m, in \u001b[0;36mwrap_exceptions.<locals>.wrapper\u001b[1;34m(self, *args, **kwargs)\u001b[0m\n\u001b[0;32m    693\u001b[0m \u001b[38;5;28;01mtry\u001b[39;00m:\n\u001b[1;32m--> 694\u001b[0m     \u001b[38;5;28;01mreturn\u001b[39;00m \u001b[43mfun\u001b[49m\u001b[43m(\u001b[49m\u001b[38;5;28;43mself\u001b[39;49m\u001b[43m,\u001b[49m\u001b[43m \u001b[49m\u001b[38;5;241;43m*\u001b[39;49m\u001b[43margs\u001b[49m\u001b[43m,\u001b[49m\u001b[43m \u001b[49m\u001b[38;5;241;43m*\u001b[39;49m\u001b[38;5;241;43m*\u001b[39;49m\u001b[43mkwargs\u001b[49m\u001b[43m)\u001b[49m\n\u001b[0;32m    695\u001b[0m \u001b[38;5;28;01mexcept\u001b[39;00m \u001b[38;5;167;01mOSError\u001b[39;00m \u001b[38;5;28;01mas\u001b[39;00m err:\n",
      "File \u001b[1;32m~\\Miniconda3\\envs\\ipm\\lib\\site-packages\\psutil\\_pswindows.py:948\u001b[0m, in \u001b[0;36mProcess.create_time\u001b[1;34m(self)\u001b[0m\n\u001b[0;32m    947\u001b[0m \u001b[38;5;28;01mtry\u001b[39;00m:\n\u001b[1;32m--> 948\u001b[0m     user, system, created \u001b[38;5;241m=\u001b[39m \u001b[43mcext\u001b[49m\u001b[38;5;241;43m.\u001b[39;49m\u001b[43mproc_times\u001b[49m\u001b[43m(\u001b[49m\u001b[38;5;28;43mself\u001b[39;49m\u001b[38;5;241;43m.\u001b[39;49m\u001b[43mpid\u001b[49m\u001b[43m)\u001b[49m\n\u001b[0;32m    949\u001b[0m     \u001b[38;5;28;01mreturn\u001b[39;00m created\n",
      "\u001b[1;31mProcessLookupError\u001b[0m: [Errno 3] assume no such process (originated from GetExitCodeProcess != STILL_ACTIVE)",
      "\nDuring handling of the above exception, another exception occurred:\n",
      "\u001b[1;31mNoSuchProcess\u001b[0m                             Traceback (most recent call last)",
      "File \u001b[1;32m~\\Miniconda3\\envs\\ipm\\lib\\site-packages\\psutil\\__init__.py:361\u001b[0m, in \u001b[0;36mProcess._init\u001b[1;34m(self, pid, _ignore_nsp)\u001b[0m\n\u001b[0;32m    360\u001b[0m \u001b[38;5;28;01mtry\u001b[39;00m:\n\u001b[1;32m--> 361\u001b[0m     \u001b[38;5;28;43mself\u001b[39;49m\u001b[38;5;241;43m.\u001b[39;49m\u001b[43mcreate_time\u001b[49m\u001b[43m(\u001b[49m\u001b[43m)\u001b[49m\n\u001b[0;32m    362\u001b[0m \u001b[38;5;28;01mexcept\u001b[39;00m AccessDenied:\n\u001b[0;32m    363\u001b[0m     \u001b[38;5;66;03m# We should never get here as AFAIK we're able to get\u001b[39;00m\n\u001b[0;32m    364\u001b[0m     \u001b[38;5;66;03m# process creation time on all platforms even as a\u001b[39;00m\n\u001b[0;32m    365\u001b[0m     \u001b[38;5;66;03m# limited user.\u001b[39;00m\n",
      "File \u001b[1;32m~\\Miniconda3\\envs\\ipm\\lib\\site-packages\\psutil\\__init__.py:719\u001b[0m, in \u001b[0;36mProcess.create_time\u001b[1;34m(self)\u001b[0m\n\u001b[0;32m    718\u001b[0m \u001b[38;5;28;01mif\u001b[39;00m \u001b[38;5;28mself\u001b[39m\u001b[38;5;241m.\u001b[39m_create_time \u001b[38;5;129;01mis\u001b[39;00m \u001b[38;5;28;01mNone\u001b[39;00m:\n\u001b[1;32m--> 719\u001b[0m     \u001b[38;5;28mself\u001b[39m\u001b[38;5;241m.\u001b[39m_create_time \u001b[38;5;241m=\u001b[39m \u001b[38;5;28;43mself\u001b[39;49m\u001b[38;5;241;43m.\u001b[39;49m\u001b[43m_proc\u001b[49m\u001b[38;5;241;43m.\u001b[39;49m\u001b[43mcreate_time\u001b[49m\u001b[43m(\u001b[49m\u001b[43m)\u001b[49m\n\u001b[0;32m    720\u001b[0m \u001b[38;5;28;01mreturn\u001b[39;00m \u001b[38;5;28mself\u001b[39m\u001b[38;5;241m.\u001b[39m_create_time\n",
      "File \u001b[1;32m~\\Miniconda3\\envs\\ipm\\lib\\site-packages\\psutil\\_pswindows.py:696\u001b[0m, in \u001b[0;36mwrap_exceptions.<locals>.wrapper\u001b[1;34m(self, *args, **kwargs)\u001b[0m\n\u001b[0;32m    695\u001b[0m \u001b[38;5;28;01mexcept\u001b[39;00m \u001b[38;5;167;01mOSError\u001b[39;00m \u001b[38;5;28;01mas\u001b[39;00m err:\n\u001b[1;32m--> 696\u001b[0m     \u001b[38;5;28;01mraise\u001b[39;00m convert_oserror(err, pid\u001b[38;5;241m=\u001b[39m\u001b[38;5;28mself\u001b[39m\u001b[38;5;241m.\u001b[39mpid, name\u001b[38;5;241m=\u001b[39m\u001b[38;5;28mself\u001b[39m\u001b[38;5;241m.\u001b[39m_name)\n",
      "\u001b[1;31mNoSuchProcess\u001b[0m: process no longer exists (pid=14536)",
      "\nDuring handling of the above exception, another exception occurred:\n",
      "\u001b[1;31mNoSuchProcess\u001b[0m                             Traceback (most recent call last)",
      "Input \u001b[1;32mIn [20]\u001b[0m, in \u001b[0;36m<cell line: 1>\u001b[1;34m()\u001b[0m\n\u001b[1;32m----> 1\u001b[0m \u001b[43mstop_service\u001b[49m\u001b[43m(\u001b[49m\u001b[43mhandler\u001b[49m\u001b[43m)\u001b[49m\n",
      "File \u001b[1;32mc:\\users\\fourniec\\develop\\ipm\\dss\\src\\openalea\\dss\\dss_factory.py:352\u001b[0m, in \u001b[0;36mstop_service\u001b[1;34m(proc, including_parent)\u001b[0m\n\u001b[0;32m    351\u001b[0m \u001b[38;5;28;01mdef\u001b[39;00m \u001b[38;5;21mstop_service\u001b[39m(proc, including_parent\u001b[38;5;241m=\u001b[39m\u001b[38;5;28;01mTrue\u001b[39;00m):\n\u001b[1;32m--> 352\u001b[0m     parent \u001b[38;5;241m=\u001b[39m \u001b[43mpsutil\u001b[49m\u001b[38;5;241;43m.\u001b[39;49m\u001b[43mProcess\u001b[49m\u001b[43m(\u001b[49m\u001b[43mproc\u001b[49m\u001b[38;5;241;43m.\u001b[39;49m\u001b[43mpid\u001b[49m\u001b[43m)\u001b[49m\n\u001b[0;32m    353\u001b[0m     children \u001b[38;5;241m=\u001b[39m parent\u001b[38;5;241m.\u001b[39mchildren(recursive\u001b[38;5;241m=\u001b[39m\u001b[38;5;28;01mTrue\u001b[39;00m)\n\u001b[0;32m    354\u001b[0m     \u001b[38;5;28;01mfor\u001b[39;00m child \u001b[38;5;129;01min\u001b[39;00m children:\n",
      "File \u001b[1;32m~\\Miniconda3\\envs\\ipm\\lib\\site-packages\\psutil\\__init__.py:332\u001b[0m, in \u001b[0;36mProcess.__init__\u001b[1;34m(self, pid)\u001b[0m\n\u001b[0;32m    331\u001b[0m \u001b[38;5;28;01mdef\u001b[39;00m \u001b[38;5;21m__init__\u001b[39m(\u001b[38;5;28mself\u001b[39m, pid\u001b[38;5;241m=\u001b[39m\u001b[38;5;28;01mNone\u001b[39;00m):\n\u001b[1;32m--> 332\u001b[0m     \u001b[38;5;28;43mself\u001b[39;49m\u001b[38;5;241;43m.\u001b[39;49m\u001b[43m_init\u001b[49m\u001b[43m(\u001b[49m\u001b[43mpid\u001b[49m\u001b[43m)\u001b[49m\n",
      "File \u001b[1;32m~\\Miniconda3\\envs\\ipm\\lib\\site-packages\\psutil\\__init__.py:373\u001b[0m, in \u001b[0;36mProcess._init\u001b[1;34m(self, pid, _ignore_nsp)\u001b[0m\n\u001b[0;32m    371\u001b[0m \u001b[38;5;28;01mexcept\u001b[39;00m NoSuchProcess:\n\u001b[0;32m    372\u001b[0m     \u001b[38;5;28;01mif\u001b[39;00m \u001b[38;5;129;01mnot\u001b[39;00m _ignore_nsp:\n\u001b[1;32m--> 373\u001b[0m         \u001b[38;5;28;01mraise\u001b[39;00m NoSuchProcess(pid, msg\u001b[38;5;241m=\u001b[39m\u001b[38;5;124m'\u001b[39m\u001b[38;5;124mprocess PID not found\u001b[39m\u001b[38;5;124m'\u001b[39m)\n\u001b[0;32m    374\u001b[0m     \u001b[38;5;28;01melse\u001b[39;00m:\n\u001b[0;32m    375\u001b[0m         \u001b[38;5;28mself\u001b[39m\u001b[38;5;241m.\u001b[39m_gone \u001b[38;5;241m=\u001b[39m \u001b[38;5;28;01mTrue\u001b[39;00m\n",
      "\u001b[1;31mNoSuchProcess\u001b[0m: process PID not found (pid=14536)"
     ]
    }
   ],
   "source": [
    "stop_service(handler)"
   ]
  },
  {
   "cell_type": "code",
   "execution_count": 18,
   "id": "19a95dbf",
   "metadata": {},
   "outputs": [
    {
     "data": {
      "text/html": [
       "\n",
       "        <iframe\n",
       "            width=\"800\"\n",
       "            height=\"400\"\n",
       "            src=\"http://127.0.0.1:8000/docs\"\n",
       "            frameborder=\"0\"\n",
       "            allowfullscreen\n",
       "            \n",
       "        ></iframe>\n",
       "        "
      ],
      "text/plain": [
       "<IPython.lib.display.IFrame at 0x25c176f4af0>"
      ]
     },
     "execution_count": 18,
     "metadata": {},
     "output_type": "execute_result"
    }
   ],
   "source": [
    "IFrame(http + '/docs', 800,400)"
   ]
  },
  {
   "cell_type": "code",
   "execution_count": null,
   "id": "04e61f06",
   "metadata": {},
   "outputs": [],
   "source": []
  }
 ],
 "metadata": {
  "kernelspec": {
   "display_name": "Python 3 (ipykernel)",
   "language": "python",
   "name": "python3"
  },
  "language_info": {
   "codemirror_mode": {
    "name": "ipython",
    "version": 3
   },
   "file_extension": ".py",
   "mimetype": "text/x-python",
   "name": "python",
   "nbconvert_exporter": "python",
   "pygments_lexer": "ipython3",
   "version": "3.8.16"
  }
 },
 "nbformat": 4,
 "nbformat_minor": 5
}
